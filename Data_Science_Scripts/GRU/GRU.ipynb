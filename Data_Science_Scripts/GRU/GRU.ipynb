{
 "cells": [
  {
   "cell_type": "markdown",
   "metadata": {},
   "source": [
    "# Demo of Gated Recurrent Unit"
   ]
  },
  {
   "cell_type": "code",
   "execution_count": 1,
   "metadata": {},
   "outputs": [],
   "source": [
    "# Standard Math / Data libraries\n",
    "import numpy as np\n",
    "import pandas as pd\n",
    "\n",
    "# Data Scrape Package\n",
    "import pandas_datareader.data as web\n",
    "\n",
    "# Plotting package\n",
    "import matplotlib.pyplot as plt\n",
    "# Scaling Package\n",
    "from sklearn.preprocessing import MinMaxScaler\n",
    "\n",
    "# Keras Network @ https://www.tensorflow.org/guide/keras/gru\n",
    "import tensorflow as tf # version tensorflow==2.4.0\n",
    "from tensorflow import keras\n",
    "from tensorflow.keras import layers\n",
    "\n",
    "# Set Random seed\n",
    "import random\n",
    "random.seed(2505)"
   ]
  },
  {
   "cell_type": "markdown",
   "metadata": {},
   "source": [
    "# Cleaning the Data "
   ]
  },
  {
   "cell_type": "code",
   "execution_count": 2,
   "metadata": {},
   "outputs": [],
   "source": [
    "# Daily Data on Gold.\n",
    "tick = 'GC=F'\n",
    "gold = web.get_data_yahoo(tick,'12/27/2015',interval='d')"
   ]
  },
  {
   "cell_type": "code",
   "execution_count": 3,
   "metadata": {},
   "outputs": [
    {
     "data": {
      "text/html": [
       "<div>\n",
       "<style scoped>\n",
       "    .dataframe tbody tr th:only-of-type {\n",
       "        vertical-align: middle;\n",
       "    }\n",
       "\n",
       "    .dataframe tbody tr th {\n",
       "        vertical-align: top;\n",
       "    }\n",
       "\n",
       "    .dataframe thead th {\n",
       "        text-align: right;\n",
       "    }\n",
       "</style>\n",
       "<table border=\"1\" class=\"dataframe\">\n",
       "  <thead>\n",
       "    <tr style=\"text-align: right;\">\n",
       "      <th></th>\n",
       "      <th>High</th>\n",
       "      <th>Low</th>\n",
       "      <th>Open</th>\n",
       "      <th>Close</th>\n",
       "      <th>Volume</th>\n",
       "      <th>Adj Close</th>\n",
       "    </tr>\n",
       "    <tr>\n",
       "      <th>Date</th>\n",
       "      <th></th>\n",
       "      <th></th>\n",
       "      <th></th>\n",
       "      <th></th>\n",
       "      <th></th>\n",
       "      <th></th>\n",
       "    </tr>\n",
       "  </thead>\n",
       "  <tbody>\n",
       "    <tr>\n",
       "      <th>2015-12-28</th>\n",
       "      <td>1098.800049</td>\n",
       "      <td>1070.500000</td>\n",
       "      <td>1077.900024</td>\n",
       "      <td>1070.500000</td>\n",
       "      <td>361.0</td>\n",
       "      <td>1070.500000</td>\n",
       "    </tr>\n",
       "    <tr>\n",
       "      <th>2015-12-29</th>\n",
       "      <td>1079.699951</td>\n",
       "      <td>1077.500000</td>\n",
       "      <td>1079.099976</td>\n",
       "      <td>1077.500000</td>\n",
       "      <td>252.0</td>\n",
       "      <td>1077.500000</td>\n",
       "    </tr>\n",
       "    <tr>\n",
       "      <th>2015-12-30</th>\n",
       "      <td>1070.199951</td>\n",
       "      <td>1059.699951</td>\n",
       "      <td>1068.599976</td>\n",
       "      <td>1060.099976</td>\n",
       "      <td>71.0</td>\n",
       "      <td>1060.099976</td>\n",
       "    </tr>\n",
       "    <tr>\n",
       "      <th>2015-12-31</th>\n",
       "      <td>1062.000000</td>\n",
       "      <td>1058.500000</td>\n",
       "      <td>1061.900024</td>\n",
       "      <td>1060.300049</td>\n",
       "      <td>10.0</td>\n",
       "      <td>1060.300049</td>\n",
       "    </tr>\n",
       "    <tr>\n",
       "      <th>2016-01-04</th>\n",
       "      <td>1082.500000</td>\n",
       "      <td>1063.199951</td>\n",
       "      <td>1063.400024</td>\n",
       "      <td>1075.099976</td>\n",
       "      <td>143.0</td>\n",
       "      <td>1075.099976</td>\n",
       "    </tr>\n",
       "    <tr>\n",
       "      <th>...</th>\n",
       "      <td>...</td>\n",
       "      <td>...</td>\n",
       "      <td>...</td>\n",
       "      <td>...</td>\n",
       "      <td>...</td>\n",
       "      <td>...</td>\n",
       "    </tr>\n",
       "    <tr>\n",
       "      <th>2020-12-17</th>\n",
       "      <td>1896.199951</td>\n",
       "      <td>1874.199951</td>\n",
       "      <td>1874.199951</td>\n",
       "      <td>1887.199951</td>\n",
       "      <td>414.0</td>\n",
       "      <td>1887.199951</td>\n",
       "    </tr>\n",
       "    <tr>\n",
       "      <th>2020-12-18</th>\n",
       "      <td>1889.500000</td>\n",
       "      <td>1882.300049</td>\n",
       "      <td>1882.400024</td>\n",
       "      <td>1885.699951</td>\n",
       "      <td>276.0</td>\n",
       "      <td>1885.699951</td>\n",
       "    </tr>\n",
       "    <tr>\n",
       "      <th>2020-12-21</th>\n",
       "      <td>1908.000000</td>\n",
       "      <td>1869.099976</td>\n",
       "      <td>1884.800049</td>\n",
       "      <td>1879.199951</td>\n",
       "      <td>136.0</td>\n",
       "      <td>1879.199951</td>\n",
       "    </tr>\n",
       "    <tr>\n",
       "      <th>2020-12-22</th>\n",
       "      <td>1882.199951</td>\n",
       "      <td>1861.000000</td>\n",
       "      <td>1882.199951</td>\n",
       "      <td>1866.599976</td>\n",
       "      <td>233.0</td>\n",
       "      <td>1866.599976</td>\n",
       "    </tr>\n",
       "    <tr>\n",
       "      <th>2020-12-23</th>\n",
       "      <td>1878.800049</td>\n",
       "      <td>1864.500000</td>\n",
       "      <td>1867.000000</td>\n",
       "      <td>1874.699951</td>\n",
       "      <td>82.0</td>\n",
       "      <td>1874.699951</td>\n",
       "    </tr>\n",
       "  </tbody>\n",
       "</table>\n",
       "<p>1330 rows × 6 columns</p>\n",
       "</div>"
      ],
      "text/plain": [
       "                   High          Low         Open        Close  Volume  \\\n",
       "Date                                                                     \n",
       "2015-12-28  1098.800049  1070.500000  1077.900024  1070.500000   361.0   \n",
       "2015-12-29  1079.699951  1077.500000  1079.099976  1077.500000   252.0   \n",
       "2015-12-30  1070.199951  1059.699951  1068.599976  1060.099976    71.0   \n",
       "2015-12-31  1062.000000  1058.500000  1061.900024  1060.300049    10.0   \n",
       "2016-01-04  1082.500000  1063.199951  1063.400024  1075.099976   143.0   \n",
       "...                 ...          ...          ...          ...     ...   \n",
       "2020-12-17  1896.199951  1874.199951  1874.199951  1887.199951   414.0   \n",
       "2020-12-18  1889.500000  1882.300049  1882.400024  1885.699951   276.0   \n",
       "2020-12-21  1908.000000  1869.099976  1884.800049  1879.199951   136.0   \n",
       "2020-12-22  1882.199951  1861.000000  1882.199951  1866.599976   233.0   \n",
       "2020-12-23  1878.800049  1864.500000  1867.000000  1874.699951    82.0   \n",
       "\n",
       "              Adj Close  \n",
       "Date                     \n",
       "2015-12-28  1070.500000  \n",
       "2015-12-29  1077.500000  \n",
       "2015-12-30  1060.099976  \n",
       "2015-12-31  1060.300049  \n",
       "2016-01-04  1075.099976  \n",
       "...                 ...  \n",
       "2020-12-17  1887.199951  \n",
       "2020-12-18  1885.699951  \n",
       "2020-12-21  1879.199951  \n",
       "2020-12-22  1866.599976  \n",
       "2020-12-23  1874.699951  \n",
       "\n",
       "[1330 rows x 6 columns]"
      ]
     },
     "execution_count": 3,
     "metadata": {},
     "output_type": "execute_result"
    }
   ],
   "source": [
    "gold"
   ]
  },
  {
   "cell_type": "code",
   "execution_count": 4,
   "metadata": {},
   "outputs": [
    {
     "data": {
      "text/plain": [
       "[<matplotlib.lines.Line2D at 0x22b1815ddc0>]"
      ]
     },
     "execution_count": 4,
     "metadata": {},
     "output_type": "execute_result"
    },
    {
     "data": {
      "image/png": "[encoded data removed]",
      "text/plain": [
       "<Figure size 432x288 with 1 Axes>"
      ]
     },
     "metadata": {
      "needs_background": "light"
     },
     "output_type": "display_data"
    }
   ],
   "source": [
    "plt.plot(gold['Adj Close'])"
   ]
  },
  {
   "cell_type": "code",
   "execution_count": 5,
   "metadata": {},
   "outputs": [],
   "source": [
    "returns = gold['Adj Close'].pct_change() # Used for univariate example.\n",
    "\n",
    "column_names = gold.columns\n",
    "x = gold.values #returns a numpy array\n",
    "min_max_scaler = MinMaxScaler()\n",
    "x_scaled = min_max_scaler.fit_transform(x)\n",
    "df = pd.DataFrame(x_scaled)"
   ]
  },
  {
   "cell_type": "code",
   "execution_count": 6,
   "metadata": {},
   "outputs": [],
   "source": [
    "pct_c_gold = df"
   ]
  },
  {
   "cell_type": "code",
   "execution_count": 7,
   "metadata": {},
   "outputs": [],
   "source": [
    "pct_c_gold.columns = column_names"
   ]
  },
  {
   "cell_type": "code",
   "execution_count": 8,
   "metadata": {},
   "outputs": [
    {
     "data": {
      "text/html": [
       "<div>\n",
       "<style scoped>\n",
       "    .dataframe tbody tr th:only-of-type {\n",
       "        vertical-align: middle;\n",
       "    }\n",
       "\n",
       "    .dataframe tbody tr th {\n",
       "        vertical-align: top;\n",
       "    }\n",
       "\n",
       "    .dataframe thead th {\n",
       "        text-align: right;\n",
       "    }\n",
       "</style>\n",
       "<table border=\"1\" class=\"dataframe\">\n",
       "  <thead>\n",
       "    <tr style=\"text-align: right;\">\n",
       "      <th></th>\n",
       "      <th>High</th>\n",
       "      <th>Low</th>\n",
       "      <th>Open</th>\n",
       "      <th>Close</th>\n",
       "      <th>Volume</th>\n",
       "      <th>Adj Close</th>\n",
       "    </tr>\n",
       "  </thead>\n",
       "  <tbody>\n",
       "    <tr>\n",
       "      <th>0</th>\n",
       "      <td>0.036763</td>\n",
       "      <td>0.012226</td>\n",
       "      <td>0.016267</td>\n",
       "      <td>0.010490</td>\n",
       "      <td>0.000110</td>\n",
       "      <td>0.010490</td>\n",
       "    </tr>\n",
       "    <tr>\n",
       "      <th>1</th>\n",
       "      <td>0.017682</td>\n",
       "      <td>0.019358</td>\n",
       "      <td>0.017487</td>\n",
       "      <td>0.017551</td>\n",
       "      <td>0.000077</td>\n",
       "      <td>0.017551</td>\n",
       "    </tr>\n",
       "    <tr>\n",
       "      <th>2</th>\n",
       "      <td>0.008192</td>\n",
       "      <td>0.001223</td>\n",
       "      <td>0.006812</td>\n",
       "      <td>0.000000</td>\n",
       "      <td>0.000022</td>\n",
       "      <td>0.000000</td>\n",
       "    </tr>\n",
       "    <tr>\n",
       "      <th>3</th>\n",
       "      <td>0.000000</td>\n",
       "      <td>0.000000</td>\n",
       "      <td>0.000000</td>\n",
       "      <td>0.000202</td>\n",
       "      <td>0.000003</td>\n",
       "      <td>0.000202</td>\n",
       "    </tr>\n",
       "    <tr>\n",
       "      <th>4</th>\n",
       "      <td>0.020480</td>\n",
       "      <td>0.004789</td>\n",
       "      <td>0.001525</td>\n",
       "      <td>0.015130</td>\n",
       "      <td>0.000044</td>\n",
       "      <td>0.015130</td>\n",
       "    </tr>\n",
       "    <tr>\n",
       "      <th>...</th>\n",
       "      <td>...</td>\n",
       "      <td>...</td>\n",
       "      <td>...</td>\n",
       "      <td>...</td>\n",
       "      <td>...</td>\n",
       "      <td>...</td>\n",
       "    </tr>\n",
       "    <tr>\n",
       "      <th>1325</th>\n",
       "      <td>0.833367</td>\n",
       "      <td>0.831075</td>\n",
       "      <td>0.825844</td>\n",
       "      <td>0.834275</td>\n",
       "      <td>0.000127</td>\n",
       "      <td>0.834275</td>\n",
       "    </tr>\n",
       "    <tr>\n",
       "      <th>1326</th>\n",
       "      <td>0.826673</td>\n",
       "      <td>0.839328</td>\n",
       "      <td>0.834181</td>\n",
       "      <td>0.832762</td>\n",
       "      <td>0.000084</td>\n",
       "      <td>0.832762</td>\n",
       "    </tr>\n",
       "    <tr>\n",
       "      <th>1327</th>\n",
       "      <td>0.845155</td>\n",
       "      <td>0.825879</td>\n",
       "      <td>0.836621</td>\n",
       "      <td>0.826205</td>\n",
       "      <td>0.000042</td>\n",
       "      <td>0.826205</td>\n",
       "    </tr>\n",
       "    <tr>\n",
       "      <th>1328</th>\n",
       "      <td>0.819381</td>\n",
       "      <td>0.817626</td>\n",
       "      <td>0.833977</td>\n",
       "      <td>0.813496</td>\n",
       "      <td>0.000071</td>\n",
       "      <td>0.813496</td>\n",
       "    </tr>\n",
       "    <tr>\n",
       "      <th>1329</th>\n",
       "      <td>0.815984</td>\n",
       "      <td>0.821192</td>\n",
       "      <td>0.818524</td>\n",
       "      <td>0.821666</td>\n",
       "      <td>0.000025</td>\n",
       "      <td>0.821666</td>\n",
       "    </tr>\n",
       "  </tbody>\n",
       "</table>\n",
       "<p>1330 rows × 6 columns</p>\n",
       "</div>"
      ],
      "text/plain": [
       "          High       Low      Open     Close    Volume  Adj Close\n",
       "0     0.036763  0.012226  0.016267  0.010490  0.000110   0.010490\n",
       "1     0.017682  0.019358  0.017487  0.017551  0.000077   0.017551\n",
       "2     0.008192  0.001223  0.006812  0.000000  0.000022   0.000000\n",
       "3     0.000000  0.000000  0.000000  0.000202  0.000003   0.000202\n",
       "4     0.020480  0.004789  0.001525  0.015130  0.000044   0.015130\n",
       "...        ...       ...       ...       ...       ...        ...\n",
       "1325  0.833367  0.831075  0.825844  0.834275  0.000127   0.834275\n",
       "1326  0.826673  0.839328  0.834181  0.832762  0.000084   0.832762\n",
       "1327  0.845155  0.825879  0.836621  0.826205  0.000042   0.826205\n",
       "1328  0.819381  0.817626  0.833977  0.813496  0.000071   0.813496\n",
       "1329  0.815984  0.821192  0.818524  0.821666  0.000025   0.821666\n",
       "\n",
       "[1330 rows x 6 columns]"
      ]
     },
     "execution_count": 8,
     "metadata": {},
     "output_type": "execute_result"
    }
   ],
   "source": [
    "pct_c_gold"
   ]
  },
  {
   "cell_type": "markdown",
   "metadata": {},
   "source": [
    "# Univariate Forecasting (GRU)"
   ]
  },
  {
   "cell_type": "code",
   "execution_count": 9,
   "metadata": {},
   "outputs": [
    {
     "data": {
      "text/plain": [
       "Date\n",
       "2015-12-28         NaN\n",
       "2015-12-29    0.006539\n",
       "2015-12-30   -0.016149\n",
       "2015-12-31    0.000189\n",
       "2016-01-04    0.013958\n",
       "                ...   \n",
       "2020-12-17    0.016756\n",
       "2020-12-18   -0.000795\n",
       "2020-12-21   -0.003447\n",
       "2020-12-22   -0.006705\n",
       "2020-12-23    0.004339\n",
       "Name: Adj Close, Length: 1330, dtype: float64"
      ]
     },
     "execution_count": 9,
     "metadata": {},
     "output_type": "execute_result"
    }
   ],
   "source": [
    "returns"
   ]
  },
  {
   "cell_type": "code",
   "execution_count": 10,
   "metadata": {},
   "outputs": [
    {
     "data": {
      "text/plain": [
       "[<matplotlib.lines.Line2D at 0x22b18113dc0>]"
      ]
     },
     "execution_count": 10,
     "metadata": {},
     "output_type": "execute_result"
    },
    {
     "data": {
      "image/png": "[encoded data removed]",
      "text/plain": [
       "<Figure size 432x288 with 1 Axes>"
      ]
     },
     "metadata": {
      "needs_background": "light"
     },
     "output_type": "display_data"
    }
   ],
   "source": [
    "plt.plot(returns)"
   ]
  },
  {
   "cell_type": "code",
   "execution_count": 11,
   "metadata": {},
   "outputs": [
    {
     "data": {
      "text/plain": [
       "<AxesSubplot:>"
      ]
     },
     "execution_count": 11,
     "metadata": {},
     "output_type": "execute_result"
    },
    {
     "data": {
      "image/png": "[encoded data removed]",
      "text/plain": [
       "<Figure size 432x288 with 1 Axes>"
      ]
     },
     "metadata": {
      "needs_background": "light"
     },
     "output_type": "display_data"
    }
   ],
   "source": [
    "returns.hist()"
   ]
  },
  {
   "cell_type": "code",
   "execution_count": 12,
   "metadata": {},
   "outputs": [
    {
     "name": "stdout",
     "output_type": "stream",
     "text": [
      "1329\n",
      "1329\n"
     ]
    }
   ],
   "source": [
    "# Flatten this matrix down.\n",
    "npa = returns.values[1:].reshape(-1,1) # Python is smart to recognize whatever dimension you need by using this parameter\n",
    "print(len(npa))\n",
    "# # Let's scale the data -- this helps avoid the exploding gradient issue\n",
    "scale = MinMaxScaler(feature_range=(0,1)) # This is by default.\n",
    "npa = scale.fit_transform(npa)\n",
    "print(len(npa))"
   ]
  },
  {
   "cell_type": "code",
   "execution_count": 13,
   "metadata": {},
   "outputs": [
    {
     "name": "stdout",
     "output_type": "stream",
     "text": [
      "Training Data: Length is  10 :  [array([[0.51550642],\n",
      "       [0.30786687],\n",
      "       [0.4573878 ],\n",
      "       [0.58340846],\n",
      "       [0.48375329],\n",
      "       [0.57023212],\n",
      "       [0.58809324],\n",
      "       [0.37386453],\n",
      "       [0.44482225],\n",
      "       [0.36468133]])]\n",
      "Testing Data: Length is  1 :  [0.47167866393739416]\n"
     ]
    }
   ],
   "source": [
    "# Need the data to be in the form [sample, time steps, features (dimension of each element)]\n",
    "samples = 10 # Number of samples (in past)\n",
    "steps = 1 # Number of steps (in future)\n",
    "X = [] # X array\n",
    "Y = [] # Y array\n",
    "for i in range(npa.shape[0] - samples):\n",
    "    X.append(npa[i:i+samples]) # Independent Samples\n",
    "    Y.append(npa[i+samples][0]) # Dependent Samples\n",
    "print('Training Data: Length is ',len(X[0:1][0]),': ', X[0:1])\n",
    "print('Testing Data: Length is ', len(Y[0:1]),': ', Y[0:1])"
   ]
  },
  {
   "cell_type": "code",
   "execution_count": 14,
   "metadata": {},
   "outputs": [
    {
     "name": "stdout",
     "output_type": "stream",
     "text": [
      "Dimensions of X (1319, 10, 1) Dimensions of Y (1319,)\n",
      "Threshold is 1187\n"
     ]
    }
   ],
   "source": [
    "#Reshape the data so that the inputs will be acceptable to the model.\n",
    "X = np.array(X)\n",
    "Y = np.array(Y)\n",
    "print('Dimensions of X', X.shape, 'Dimensions of Y', Y.shape)\n",
    "\n",
    "threshold = round(0.9 * X.shape[0])\n",
    "print('Threshold is', threshold)"
   ]
  },
  {
   "cell_type": "code",
   "execution_count": 15,
   "metadata": {},
   "outputs": [
    {
     "name": "stdout",
     "output_type": "stream",
     "text": [
      "Model: \"sequential\"\n",
      "_________________________________________________________________\n",
      "Layer (type)                 Output Shape              Param #   \n",
      "=================================================================\n",
      "gru (GRU)                    (None, 3)                 54        \n",
      "_________________________________________________________________\n",
      "dropout (Dropout)            (None, 3)                 0         \n",
      "_________________________________________________________________\n",
      "dense (Dense)                (None, 1)                 4         \n",
      "=================================================================\n",
      "Total params: 58\n",
      "Trainable params: 58\n",
      "Non-trainable params: 0\n",
      "_________________________________________________________________\n"
     ]
    }
   ],
   "source": [
    "# Let's build the GRU\n",
    "model = keras.Sequential()\n",
    "\n",
    "# Add a GRU layer with 3 units.\n",
    "model.add(layers.GRU(3,\n",
    "                     activation = \"tanh\",\n",
    "                     recurrent_activation = \"sigmoid\",\n",
    "                     input_shape=(X.shape[1], X.shape[2])))\n",
    "# Add a dropout layer (penalizing more complex models) -- prevents overfitting\n",
    "model.add(layers.Dropout(rate=0.2))\n",
    "\n",
    "\n",
    "# Add a Dense layer with 1 units (Since we are doing a regression task.\n",
    "model.add(layers.Dense(1))\n",
    "\n",
    "# Evaluating loss function of MSE using the adam optimizer.\n",
    "model.compile(loss='mean_squared_error', optimizer = 'adam')\n",
    "\n",
    "# Print out architecture.\n",
    "model.summary()"
   ]
  },
  {
   "cell_type": "code",
   "execution_count": 16,
   "metadata": {},
   "outputs": [
    {
     "name": "stdout",
     "output_type": "stream",
     "text": [
      "Epoch 1/100\n",
      "30/30 [==============================] - 3s 40ms/step - loss: 0.5140 - val_loss: 0.3420\n",
      "Epoch 2/100\n",
      "30/30 [==============================] - 0s 4ms/step - loss: 0.3021 - val_loss: 0.1943\n",
      "Epoch 3/100\n",
      "30/30 [==============================] - 0s 4ms/step - loss: 0.1712 - val_loss: 0.1045\n",
      "Epoch 4/100\n",
      "30/30 [==============================] - 0s 4ms/step - loss: 0.0979 - val_loss: 0.0543\n",
      "Epoch 5/100\n",
      "30/30 [==============================] - 0s 4ms/step - loss: 0.0592 - val_loss: 0.0306\n",
      "Epoch 6/100\n",
      "30/30 [==============================] - 0s 5ms/step - loss: 0.0389 - val_loss: 0.0213\n",
      "Epoch 7/100\n",
      "30/30 [==============================] - 0s 4ms/step - loss: 0.0341 - val_loss: 0.0180\n",
      "Epoch 8/100\n",
      "30/30 [==============================] - 0s 4ms/step - loss: 0.0298 - val_loss: 0.0168\n",
      "Epoch 9/100\n",
      "30/30 [==============================] - 0s 4ms/step - loss: 0.0304 - val_loss: 0.0161\n",
      "Epoch 10/100\n",
      "30/30 [==============================] - 0s 4ms/step - loss: 0.0255 - val_loss: 0.0157\n",
      "Epoch 11/100\n",
      "30/30 [==============================] - 0s 4ms/step - loss: 0.0235 - val_loss: 0.0156\n",
      "Epoch 12/100\n",
      "30/30 [==============================] - 0s 5ms/step - loss: 0.0241 - val_loss: 0.0152\n",
      "Epoch 13/100\n",
      "30/30 [==============================] - 0s 4ms/step - loss: 0.0212 - val_loss: 0.0150\n",
      "Epoch 14/100\n",
      "30/30 [==============================] - 0s 4ms/step - loss: 0.0208 - val_loss: 0.0149\n",
      "Epoch 15/100\n",
      "30/30 [==============================] - 0s 4ms/step - loss: 0.0202 - val_loss: 0.0146\n",
      "Epoch 16/100\n",
      "30/30 [==============================] - 0s 4ms/step - loss: 0.0174 - val_loss: 0.0147\n",
      "Epoch 17/100\n",
      "30/30 [==============================] - 0s 4ms/step - loss: 0.0175 - val_loss: 0.0144\n",
      "Epoch 18/100\n",
      "30/30 [==============================] - 0s 4ms/step - loss: 0.0175 - val_loss: 0.0143\n",
      "Epoch 19/100\n",
      "30/30 [==============================] - 0s 4ms/step - loss: 0.0162 - val_loss: 0.0143\n",
      "Epoch 20/100\n",
      "30/30 [==============================] - 0s 4ms/step - loss: 0.0155 - val_loss: 0.0142\n",
      "Epoch 21/100\n",
      "30/30 [==============================] - 0s 4ms/step - loss: 0.0144 - val_loss: 0.0140\n",
      "Epoch 22/100\n",
      "30/30 [==============================] - 0s 4ms/step - loss: 0.0132 - val_loss: 0.0139\n",
      "Epoch 23/100\n",
      "30/30 [==============================] - 0s 4ms/step - loss: 0.0132 - val_loss: 0.0139\n",
      "Epoch 24/100\n",
      "30/30 [==============================] - 0s 4ms/step - loss: 0.0128 - val_loss: 0.0138\n",
      "Epoch 25/100\n",
      "30/30 [==============================] - 0s 4ms/step - loss: 0.0127 - val_loss: 0.0137\n",
      "Epoch 26/100\n",
      "30/30 [==============================] - 0s 4ms/step - loss: 0.0120 - val_loss: 0.0136\n",
      "Epoch 27/100\n",
      "30/30 [==============================] - 0s 4ms/step - loss: 0.0129 - val_loss: 0.0135\n",
      "Epoch 28/100\n",
      "30/30 [==============================] - 0s 4ms/step - loss: 0.0121 - val_loss: 0.0136\n",
      "Epoch 29/100\n",
      "30/30 [==============================] - 0s 4ms/step - loss: 0.0114 - val_loss: 0.0136\n",
      "Epoch 30/100\n",
      "30/30 [==============================] - 0s 4ms/step - loss: 0.0119 - val_loss: 0.0136\n",
      "Epoch 31/100\n",
      "30/30 [==============================] - 0s 4ms/step - loss: 0.0117 - val_loss: 0.0135\n",
      "Epoch 32/100\n",
      "30/30 [==============================] - 0s 4ms/step - loss: 0.0117 - val_loss: 0.0134\n",
      "Epoch 33/100\n",
      "30/30 [==============================] - 0s 4ms/step - loss: 0.0115 - val_loss: 0.0135\n",
      "Epoch 34/100\n",
      "30/30 [==============================] - 0s 5ms/step - loss: 0.0126 - val_loss: 0.0134\n",
      "Epoch 35/100\n",
      "30/30 [==============================] - 0s 5ms/step - loss: 0.0110 - val_loss: 0.0133\n",
      "Epoch 36/100\n",
      "30/30 [==============================] - 0s 4ms/step - loss: 0.0118 - val_loss: 0.0133\n",
      "Epoch 37/100\n",
      "30/30 [==============================] - 0s 4ms/step - loss: 0.0102 - val_loss: 0.0134\n",
      "Epoch 38/100\n",
      "30/30 [==============================] - 0s 4ms/step - loss: 0.0097 - val_loss: 0.0135\n",
      "Epoch 39/100\n",
      "30/30 [==============================] - 0s 4ms/step - loss: 0.0098 - val_loss: 0.0133\n",
      "Epoch 40/100\n",
      "30/30 [==============================] - 0s 4ms/step - loss: 0.0108 - val_loss: 0.0132\n",
      "Epoch 41/100\n",
      "30/30 [==============================] - 0s 4ms/step - loss: 0.0106 - val_loss: 0.0134\n",
      "Epoch 42/100\n",
      "30/30 [==============================] - 0s 4ms/step - loss: 0.0104 - val_loss: 0.0133\n",
      "Epoch 43/100\n",
      "30/30 [==============================] - 0s 4ms/step - loss: 0.0108 - val_loss: 0.0133\n",
      "Epoch 44/100\n",
      "30/30 [==============================] - 0s 4ms/step - loss: 0.0112 - val_loss: 0.0133\n",
      "Epoch 45/100\n",
      "30/30 [==============================] - 0s 4ms/step - loss: 0.0105 - val_loss: 0.0134\n",
      "Epoch 46/100\n",
      "30/30 [==============================] - 0s 5ms/step - loss: 0.0094 - val_loss: 0.0133\n",
      "Epoch 47/100\n",
      "30/30 [==============================] - 0s 4ms/step - loss: 0.0116 - val_loss: 0.0133\n",
      "Epoch 48/100\n",
      "30/30 [==============================] - 0s 4ms/step - loss: 0.0101 - val_loss: 0.0133\n",
      "Epoch 49/100\n",
      "30/30 [==============================] - 0s 4ms/step - loss: 0.0108 - val_loss: 0.0132\n",
      "Epoch 50/100\n",
      "30/30 [==============================] - 0s 4ms/step - loss: 0.0100 - val_loss: 0.0132\n",
      "Epoch 51/100\n",
      "30/30 [==============================] - 0s 4ms/step - loss: 0.0096 - val_loss: 0.0132\n",
      "Epoch 52/100\n",
      "30/30 [==============================] - 0s 4ms/step - loss: 0.0099 - val_loss: 0.0132\n",
      "Epoch 53/100\n",
      "30/30 [==============================] - 0s 4ms/step - loss: 0.0093 - val_loss: 0.0132\n",
      "Epoch 54/100\n",
      "30/30 [==============================] - 0s 4ms/step - loss: 0.0090 - val_loss: 0.0133\n",
      "Epoch 55/100\n",
      "30/30 [==============================] - 0s 4ms/step - loss: 0.0091 - val_loss: 0.0132\n",
      "Epoch 56/100\n",
      "30/30 [==============================] - 0s 5ms/step - loss: 0.0085 - val_loss: 0.0132\n",
      "Epoch 57/100\n",
      "30/30 [==============================] - 0s 4ms/step - loss: 0.0094 - val_loss: 0.0132\n",
      "Epoch 58/100\n",
      "30/30 [==============================] - 0s 4ms/step - loss: 0.0094 - val_loss: 0.0132\n",
      "Epoch 59/100\n",
      "30/30 [==============================] - 0s 4ms/step - loss: 0.0096 - val_loss: 0.0131\n",
      "Epoch 60/100\n",
      "30/30 [==============================] - 0s 4ms/step - loss: 0.0093 - val_loss: 0.0131\n",
      "Epoch 61/100\n",
      "30/30 [==============================] - 0s 4ms/step - loss: 0.0087 - val_loss: 0.0131\n",
      "Epoch 62/100\n",
      "30/30 [==============================] - 0s 4ms/step - loss: 0.0081 - val_loss: 0.0132\n",
      "Epoch 63/100\n",
      "30/30 [==============================] - 0s 4ms/step - loss: 0.0087 - val_loss: 0.0131\n",
      "Epoch 64/100\n",
      "30/30 [==============================] - 0s 4ms/step - loss: 0.0093 - val_loss: 0.0132\n",
      "Epoch 65/100\n",
      "30/30 [==============================] - 0s 4ms/step - loss: 0.0088 - val_loss: 0.0131\n",
      "Epoch 66/100\n",
      "30/30 [==============================] - 0s 4ms/step - loss: 0.0083 - val_loss: 0.0131\n",
      "Epoch 67/100\n",
      "30/30 [==============================] - 0s 4ms/step - loss: 0.0085 - val_loss: 0.0131\n",
      "Epoch 68/100\n",
      "30/30 [==============================] - 0s 4ms/step - loss: 0.0084 - val_loss: 0.0131\n",
      "Epoch 69/100\n",
      "30/30 [==============================] - 0s 4ms/step - loss: 0.0080 - val_loss: 0.0131\n",
      "Epoch 70/100\n",
      "30/30 [==============================] - 0s 4ms/step - loss: 0.0081 - val_loss: 0.0131\n",
      "Epoch 71/100\n",
      "30/30 [==============================] - 0s 4ms/step - loss: 0.0082 - val_loss: 0.0131\n",
      "Epoch 72/100\n",
      "30/30 [==============================] - 0s 4ms/step - loss: 0.0080 - val_loss: 0.0130\n",
      "Epoch 73/100\n",
      "30/30 [==============================] - 0s 4ms/step - loss: 0.0081 - val_loss: 0.0131\n",
      "Epoch 74/100\n",
      "30/30 [==============================] - 0s 4ms/step - loss: 0.0083 - val_loss: 0.0130\n",
      "Epoch 75/100\n",
      "30/30 [==============================] - 0s 4ms/step - loss: 0.0081 - val_loss: 0.0130\n",
      "Epoch 76/100\n",
      "30/30 [==============================] - 0s 5ms/step - loss: 0.0084 - val_loss: 0.0130\n",
      "Epoch 77/100\n",
      "30/30 [==============================] - 0s 4ms/step - loss: 0.0079 - val_loss: 0.0130\n",
      "Epoch 78/100\n",
      "30/30 [==============================] - 0s 4ms/step - loss: 0.0078 - val_loss: 0.0130\n",
      "Epoch 79/100\n",
      "30/30 [==============================] - 0s 4ms/step - loss: 0.0086 - val_loss: 0.0130\n",
      "Epoch 80/100\n",
      "30/30 [==============================] - 0s 4ms/step - loss: 0.0075 - val_loss: 0.0130\n",
      "Epoch 81/100\n",
      "30/30 [==============================] - 0s 5ms/step - loss: 0.0077 - val_loss: 0.0130\n",
      "Epoch 82/100\n",
      "30/30 [==============================] - 0s 4ms/step - loss: 0.0079 - val_loss: 0.0130\n",
      "Epoch 83/100\n"
     ]
    },
    {
     "name": "stdout",
     "output_type": "stream",
     "text": [
      "30/30 [==============================] - 0s 4ms/step - loss: 0.0074 - val_loss: 0.0130\n",
      "Epoch 84/100\n",
      "30/30 [==============================] - 0s 4ms/step - loss: 0.0077 - val_loss: 0.0130\n",
      "Epoch 85/100\n",
      "30/30 [==============================] - 0s 4ms/step - loss: 0.0080 - val_loss: 0.0130\n",
      "Epoch 86/100\n",
      "30/30 [==============================] - 0s 4ms/step - loss: 0.0076 - val_loss: 0.0130\n",
      "Epoch 87/100\n",
      "30/30 [==============================] - 0s 4ms/step - loss: 0.0075 - val_loss: 0.0130\n",
      "Epoch 88/100\n",
      "30/30 [==============================] - 0s 4ms/step - loss: 0.0076 - val_loss: 0.0130\n",
      "Epoch 89/100\n",
      "30/30 [==============================] - 0s 4ms/step - loss: 0.0077 - val_loss: 0.0129\n",
      "Epoch 90/100\n",
      "30/30 [==============================] - 0s 4ms/step - loss: 0.0075 - val_loss: 0.0129\n",
      "Epoch 91/100\n",
      "30/30 [==============================] - 0s 4ms/step - loss: 0.0074 - val_loss: 0.0129\n",
      "Epoch 92/100\n",
      "30/30 [==============================] - 0s 4ms/step - loss: 0.0076 - val_loss: 0.0129\n",
      "Epoch 93/100\n",
      "30/30 [==============================] - 0s 4ms/step - loss: 0.0075 - val_loss: 0.0129\n",
      "Epoch 94/100\n",
      "30/30 [==============================] - 0s 4ms/step - loss: 0.0075 - val_loss: 0.0129\n",
      "Epoch 95/100\n",
      "30/30 [==============================] - 0s 4ms/step - loss: 0.0076 - val_loss: 0.0129\n",
      "Epoch 96/100\n",
      "30/30 [==============================] - 0s 4ms/step - loss: 0.0073 - val_loss: 0.0129\n",
      "Epoch 97/100\n",
      "30/30 [==============================] - 0s 4ms/step - loss: 0.0074 - val_loss: 0.0129\n",
      "Epoch 98/100\n",
      "30/30 [==============================] - 0s 5ms/step - loss: 0.0075 - val_loss: 0.0129\n",
      "Epoch 99/100\n",
      "30/30 [==============================] - 0s 4ms/step - loss: 0.0074 - val_loss: 0.0129\n",
      "Epoch 100/100\n",
      "30/30 [==============================] - 0s 5ms/step - loss: 0.0075 - val_loss: 0.0128\n"
     ]
    }
   ],
   "source": [
    "# Fitting the data\n",
    "history = model.fit(X[:threshold],\n",
    "                    Y[:threshold],\n",
    "                    shuffle = False, # Since this is time series data\n",
    "                    epochs=100,\n",
    "                    batch_size=32,\n",
    "                    validation_split=0.2,\n",
    "                    verbose=1) # Verbose outputs data"
   ]
  },
  {
   "cell_type": "code",
   "execution_count": 17,
   "metadata": {},
   "outputs": [
    {
     "data": {
      "text/plain": [
       "<matplotlib.legend.Legend at 0x22b24bfa370>"
      ]
     },
     "execution_count": 17,
     "metadata": {},
     "output_type": "execute_result"
    },
    {
     "data": {
      "image/png": "[encoded data removed]",
      "text/plain": [
       "<Figure size 432x288 with 1 Axes>"
      ]
     },
     "metadata": {
      "needs_background": "light"
     },
     "output_type": "display_data"
    }
   ],
   "source": [
    "# Plotting the loss iteration\n",
    "plt.plot(history.history['loss'], label = 'training loss')\n",
    "plt.plot(history.history['val_loss'], label ='validation loss')\n",
    "plt.legend()\n",
    "# Note:\n",
    "# if training loss >> validation loss -> Underfitting\n",
    "# if training loss << validation loss -> Overfitting (i.e model is smart enough to have mapped the entire dataset..)\n",
    "# Several ways to address overfitting:\n",
    "# Reduce complexity of model (hidden layers, neurons, parameters input etc)\n",
    "# Add dropout and tune rate\n",
    "# More data :)"
   ]
  },
  {
   "cell_type": "markdown",
   "metadata": {},
   "source": [
    "# Multi-Step Forecast"
   ]
  },
  {
   "cell_type": "code",
   "execution_count": 18,
   "metadata": {},
   "outputs": [
    {
     "name": "stdout",
     "output_type": "stream",
     "text": [
      "1187\n",
      "Number of Forecasts to do:  132\n"
     ]
    }
   ],
   "source": [
    "# Predictions using the 'sliding/rolling window approach'\n",
    "# Multi step forecast.\n",
    "# Using self predictions for making future predictions\n",
    "print(threshold)\n",
    "true_Y = Y[threshold:]\n",
    "pred_Y = []\n",
    "print('Number of Forecasts to do: ',Y.shape[0] - round(Y.shape[0]*0.9))\n",
    "latest_input = X[threshold-1:threshold]\n",
    "\n",
    "for i in range(Y.shape[0] - round(Y.shape[0]*0.9) ):\n",
    "    # Prediction\n",
    "    p = model.predict(latest_input.reshape(1,X.shape[1],1))[0,0]\n",
    "    \n",
    "    # Update predictions\n",
    "    pred_Y.append(p)\n",
    "    latest_input = np.append(X[threshold][1:], p)"
   ]
  },
  {
   "cell_type": "code",
   "execution_count": 19,
   "metadata": {},
   "outputs": [
    {
     "data": {
      "text/plain": [
       "<matplotlib.legend.Legend at 0x22b26372c70>"
      ]
     },
     "execution_count": 19,
     "metadata": {},
     "output_type": "execute_result"
    },
    {
     "data": {
      "image/png": "[encoded data removed]",
      "text/plain": [
       "<Figure size 432x288 with 1 Axes>"
      ]
     },
     "metadata": {
      "needs_background": "light"
     },
     "output_type": "display_data"
    }
   ],
   "source": [
    "plt.plot(true_Y, label = 'True Value')\n",
    "plt.plot(pred_Y, label = 'Forecasted Value')\n",
    "plt.legend()\n",
    "# Model just copied the same value over and over again. Hence, model is not very robust.\n",
    "# It's just predicting the mean."
   ]
  },
  {
   "cell_type": "code",
   "execution_count": null,
   "metadata": {},
   "outputs": [],
   "source": []
  },
  {
   "cell_type": "code",
   "execution_count": null,
   "metadata": {},
   "outputs": [],
   "source": []
  },
  {
   "cell_type": "code",
   "execution_count": null,
   "metadata": {},
   "outputs": [],
   "source": []
  },
  {
   "cell_type": "code",
   "execution_count": null,
   "metadata": {},
   "outputs": [],
   "source": []
  },
  {
   "cell_type": "code",
   "execution_count": null,
   "metadata": {},
   "outputs": [],
   "source": []
  },
  {
   "cell_type": "code",
   "execution_count": 21,
   "metadata": {},
   "outputs": [
    {
     "data": {
      "text/html": [
       "<div>\n",
       "<style scoped>\n",
       "    .dataframe tbody tr th:only-of-type {\n",
       "        vertical-align: middle;\n",
       "    }\n",
       "\n",
       "    .dataframe tbody tr th {\n",
       "        vertical-align: top;\n",
       "    }\n",
       "\n",
       "    .dataframe thead th {\n",
       "        text-align: right;\n",
       "    }\n",
       "</style>\n",
       "<table border=\"1\" class=\"dataframe\">\n",
       "  <thead>\n",
       "    <tr style=\"text-align: right;\">\n",
       "      <th></th>\n",
       "      <th>High</th>\n",
       "      <th>Low</th>\n",
       "      <th>Open</th>\n",
       "      <th>Close</th>\n",
       "      <th>Volume</th>\n",
       "      <th>Adj Close</th>\n",
       "    </tr>\n",
       "  </thead>\n",
       "  <tbody>\n",
       "    <tr>\n",
       "      <th>0</th>\n",
       "      <td>0.036763</td>\n",
       "      <td>0.012226</td>\n",
       "      <td>0.016267</td>\n",
       "      <td>0.010490</td>\n",
       "      <td>0.000110</td>\n",
       "      <td>0.010490</td>\n",
       "    </tr>\n",
       "    <tr>\n",
       "      <th>1</th>\n",
       "      <td>0.017682</td>\n",
       "      <td>0.019358</td>\n",
       "      <td>0.017487</td>\n",
       "      <td>0.017551</td>\n",
       "      <td>0.000077</td>\n",
       "      <td>0.017551</td>\n",
       "    </tr>\n",
       "    <tr>\n",
       "      <th>2</th>\n",
       "      <td>0.008192</td>\n",
       "      <td>0.001223</td>\n",
       "      <td>0.006812</td>\n",
       "      <td>0.000000</td>\n",
       "      <td>0.000022</td>\n",
       "      <td>0.000000</td>\n",
       "    </tr>\n",
       "    <tr>\n",
       "      <th>3</th>\n",
       "      <td>0.000000</td>\n",
       "      <td>0.000000</td>\n",
       "      <td>0.000000</td>\n",
       "      <td>0.000202</td>\n",
       "      <td>0.000003</td>\n",
       "      <td>0.000202</td>\n",
       "    </tr>\n",
       "    <tr>\n",
       "      <th>4</th>\n",
       "      <td>0.020480</td>\n",
       "      <td>0.004789</td>\n",
       "      <td>0.001525</td>\n",
       "      <td>0.015130</td>\n",
       "      <td>0.000044</td>\n",
       "      <td>0.015130</td>\n",
       "    </tr>\n",
       "    <tr>\n",
       "      <th>...</th>\n",
       "      <td>...</td>\n",
       "      <td>...</td>\n",
       "      <td>...</td>\n",
       "      <td>...</td>\n",
       "      <td>...</td>\n",
       "      <td>...</td>\n",
       "    </tr>\n",
       "    <tr>\n",
       "      <th>1325</th>\n",
       "      <td>0.833367</td>\n",
       "      <td>0.831075</td>\n",
       "      <td>0.825844</td>\n",
       "      <td>0.834275</td>\n",
       "      <td>0.000127</td>\n",
       "      <td>0.834275</td>\n",
       "    </tr>\n",
       "    <tr>\n",
       "      <th>1326</th>\n",
       "      <td>0.826673</td>\n",
       "      <td>0.839328</td>\n",
       "      <td>0.834181</td>\n",
       "      <td>0.832762</td>\n",
       "      <td>0.000084</td>\n",
       "      <td>0.832762</td>\n",
       "    </tr>\n",
       "    <tr>\n",
       "      <th>1327</th>\n",
       "      <td>0.845155</td>\n",
       "      <td>0.825879</td>\n",
       "      <td>0.836621</td>\n",
       "      <td>0.826205</td>\n",
       "      <td>0.000042</td>\n",
       "      <td>0.826205</td>\n",
       "    </tr>\n",
       "    <tr>\n",
       "      <th>1328</th>\n",
       "      <td>0.819381</td>\n",
       "      <td>0.817626</td>\n",
       "      <td>0.833977</td>\n",
       "      <td>0.813496</td>\n",
       "      <td>0.000071</td>\n",
       "      <td>0.813496</td>\n",
       "    </tr>\n",
       "    <tr>\n",
       "      <th>1329</th>\n",
       "      <td>0.815984</td>\n",
       "      <td>0.821192</td>\n",
       "      <td>0.818524</td>\n",
       "      <td>0.821666</td>\n",
       "      <td>0.000025</td>\n",
       "      <td>0.821666</td>\n",
       "    </tr>\n",
       "  </tbody>\n",
       "</table>\n",
       "<p>1330 rows × 6 columns</p>\n",
       "</div>"
      ],
      "text/plain": [
       "          High       Low      Open     Close    Volume  Adj Close\n",
       "0     0.036763  0.012226  0.016267  0.010490  0.000110   0.010490\n",
       "1     0.017682  0.019358  0.017487  0.017551  0.000077   0.017551\n",
       "2     0.008192  0.001223  0.006812  0.000000  0.000022   0.000000\n",
       "3     0.000000  0.000000  0.000000  0.000202  0.000003   0.000202\n",
       "4     0.020480  0.004789  0.001525  0.015130  0.000044   0.015130\n",
       "...        ...       ...       ...       ...       ...        ...\n",
       "1325  0.833367  0.831075  0.825844  0.834275  0.000127   0.834275\n",
       "1326  0.826673  0.839328  0.834181  0.832762  0.000084   0.832762\n",
       "1327  0.845155  0.825879  0.836621  0.826205  0.000042   0.826205\n",
       "1328  0.819381  0.817626  0.833977  0.813496  0.000071   0.813496\n",
       "1329  0.815984  0.821192  0.818524  0.821666  0.000025   0.821666\n",
       "\n",
       "[1330 rows x 6 columns]"
      ]
     },
     "execution_count": 21,
     "metadata": {},
     "output_type": "execute_result"
    }
   ],
   "source": [
    "pct_c_gold"
   ]
  },
  {
   "cell_type": "markdown",
   "metadata": {},
   "source": [
    "# Multi-Variate Forecasting"
   ]
  },
  {
   "cell_type": "markdown",
   "metadata": {},
   "source": [
    "# Using our Training and Testing sets, Let's create our inputs."
   ]
  },
  {
   "cell_type": "code",
   "execution_count": 20,
   "metadata": {},
   "outputs": [
    {
     "name": "stdout",
     "output_type": "stream",
     "text": [
      "Training Data: Length is  10 :  [array([[3.67632855e-02, 1.22261844e-02, 1.62667755e-02, 1.04902402e-02,\n",
      "        1.10363331e-04],\n",
      "       [1.76822689e-02, 1.93581253e-02, 1.74867340e-02, 1.75509623e-02,\n",
      "        7.70403306e-05],\n",
      "       [8.19175941e-03, 1.22256869e-03, 6.81166260e-03, 0.00000000e+00,\n",
      "        2.17058074e-05],\n",
      "       [0.00000000e+00, 0.00000000e+00, 0.00000000e+00, 2.01808793e-04,\n",
      "        3.05715598e-06],\n",
      "       [2.04795205e-02, 4.78853915e-03, 1.52501020e-03, 1.51301187e-02,\n",
      "        4.37173305e-05],\n",
      "       [1.94805195e-02, 1.71167079e-02, 1.39283769e-02, 1.84587940e-02,\n",
      "        2.50686790e-05],\n",
      "       [3.16682829e-02, 2.35353801e-02, 2.00284177e-02, 3.20759008e-02,\n",
      "        1.58972111e-05],\n",
      "       [4.73526717e-02, 3.37238671e-02, 3.01951524e-02, 4.80128852e-02,\n",
      "        3.72973029e-05],\n",
      "       [4.90509247e-02, 3.51502802e-02, 5.00202851e-02, 3.80271054e-02,\n",
      "        2.99601286e-05],\n",
      "       [4.58541702e-02, 3.87162506e-02, 4.45302235e-02, 3.67157792e-02,\n",
      "        1.31457707e-05]])]\n",
      "Testing Data: Length is  1 :  [array([0.0257212])]\n"
     ]
    }
   ],
   "source": [
    "# Need the data to be in the form [sample, time steps, features (dimension of each element)]\n",
    "samples = 10 # Number of samples (in past)\n",
    "steps = 1 # Number of steps (in future)\n",
    "X = [] # X array\n",
    "Y = [] # Y array\n",
    "for i in range(pct_c_gold.shape[0] - samples):\n",
    "    X.append(pct_c_gold.iloc[i:i+samples, 0:5].values) # Independent Samples\n",
    "    Y.append(pct_c_gold.iloc[i+samples, 5:].values) # Dependent Samples\n",
    "print('Training Data: Length is ',len(X[0:1][0]),': ', X[0:1])\n",
    "print('Testing Data: Length is ', len(Y[0:1]),': ', Y[0:1])"
   ]
  },
  {
   "cell_type": "code",
   "execution_count": 22,
   "metadata": {},
   "outputs": [
    {
     "name": "stdout",
     "output_type": "stream",
     "text": [
      "Dimensions of X (1320, 10, 5) Dimensions of Y (1320, 1)\n"
     ]
    }
   ],
   "source": [
    "#Reshape the data so that the inputs will be acceptable to the model.\n",
    "X = np.array(X)\n",
    "Y = np.array(Y)\n",
    "print('Dimensions of X', X.shape, 'Dimensions of Y', Y.shape)"
   ]
  },
  {
   "cell_type": "code",
   "execution_count": 23,
   "metadata": {},
   "outputs": [
    {
     "name": "stdout",
     "output_type": "stream",
     "text": [
      "Training Length (1188, 10, 5) (1188, 1) Testing Length: (132, 10, 5) (132, 1)\n"
     ]
    }
   ],
   "source": [
    "# # Get the training and testing set\n",
    "threshold = round(0.9 * X.shape[0])\n",
    "trainX, trainY = X[:threshold], Y[:threshold]\n",
    "testX, testY =  X[threshold:], Y[threshold:]\n",
    "print('Training Length',trainX.shape, trainY.shape,'Testing Length:',testX.shape, testY.shape)"
   ]
  },
  {
   "cell_type": "code",
   "execution_count": 24,
   "metadata": {},
   "outputs": [
    {
     "name": "stdout",
     "output_type": "stream",
     "text": [
      "Model: \"sequential_1\"\n",
      "_________________________________________________________________\n",
      "Layer (type)                 Output Shape              Param #   \n",
      "=================================================================\n",
      "gru_1 (GRU)                  (None, 15)                990       \n",
      "_________________________________________________________________\n",
      "dropout_1 (Dropout)          (None, 15)                0         \n",
      "_________________________________________________________________\n",
      "dense_1 (Dense)              (None, 1)                 16        \n",
      "=================================================================\n",
      "Total params: 1,006\n",
      "Trainable params: 1,006\n",
      "Non-trainable params: 0\n",
      "_________________________________________________________________\n"
     ]
    }
   ],
   "source": [
    "# Let's build the GRU\n",
    "model = keras.Sequential()\n",
    "\n",
    "# Add a GRU layer with 15 units.\n",
    "model.add(layers.GRU(15,\n",
    "                     activation = \"tanh\",\n",
    "                     recurrent_activation = \"sigmoid\",\n",
    "                     input_shape=(X.shape[1], X.shape[2])))\n",
    "# Add a dropout layer (penalizing more complex models) -- prevents overfitting\n",
    "model.add(layers.Dropout(rate=0.2))\n",
    "\n",
    "\n",
    "# Add a Dense layer with 1 units (Since we are doing a regression task.\n",
    "model.add(layers.Dense(1))\n",
    "\n",
    "# Evaluating loss function of MSE using the adam optimizer.\n",
    "model.compile(loss='mean_squared_error', optimizer = 'adam')\n",
    "\n",
    "# Print out architecture.\n",
    "model.summary()"
   ]
  },
  {
   "cell_type": "code",
   "execution_count": 25,
   "metadata": {},
   "outputs": [
    {
     "name": "stdout",
     "output_type": "stream",
     "text": [
      "Epoch 1/100\n",
      "30/30 [==============================] - 2s 16ms/step - loss: 0.0044 - val_loss: 0.0072\n",
      "Epoch 2/100\n",
      "30/30 [==============================] - 0s 4ms/step - loss: 0.0029 - val_loss: 0.0032\n",
      "Epoch 3/100\n",
      "30/30 [==============================] - 0s 5ms/step - loss: 0.0019 - val_loss: 0.0039\n",
      "Epoch 4/100\n",
      "30/30 [==============================] - 0s 4ms/step - loss: 0.0016 - val_loss: 0.0021\n",
      "Epoch 5/100\n",
      "30/30 [==============================] - 0s 4ms/step - loss: 0.0013 - val_loss: 0.0019\n",
      "Epoch 6/100\n",
      "30/30 [==============================] - 0s 5ms/step - loss: 0.0011 - val_loss: 0.0018\n",
      "Epoch 7/100\n",
      "30/30 [==============================] - 0s 4ms/step - loss: 9.8058e-04 - val_loss: 0.0012\n",
      "Epoch 8/100\n",
      "30/30 [==============================] - 0s 4ms/step - loss: 0.0011 - val_loss: 0.0014\n",
      "Epoch 9/100\n",
      "30/30 [==============================] - 0s 4ms/step - loss: 8.7460e-04 - val_loss: 0.0018\n",
      "Epoch 10/100\n",
      "30/30 [==============================] - 0s 4ms/step - loss: 8.3588e-04 - val_loss: 0.0015\n",
      "Epoch 11/100\n",
      "30/30 [==============================] - 0s 4ms/step - loss: 7.4166e-04 - val_loss: 0.0015\n",
      "Epoch 12/100\n",
      "30/30 [==============================] - 0s 4ms/step - loss: 7.7307e-04 - val_loss: 9.6057e-04\n",
      "Epoch 13/100\n",
      "30/30 [==============================] - 0s 4ms/step - loss: 8.6366e-04 - val_loss: 0.0010\n",
      "Epoch 14/100\n",
      "30/30 [==============================] - 0s 4ms/step - loss: 8.1122e-04 - val_loss: 9.6229e-04\n",
      "Epoch 15/100\n",
      "30/30 [==============================] - 0s 4ms/step - loss: 6.5547e-04 - val_loss: 0.0010\n",
      "Epoch 16/100\n",
      "30/30 [==============================] - 0s 4ms/step - loss: 6.6980e-04 - val_loss: 0.0012\n",
      "Epoch 17/100\n",
      "30/30 [==============================] - 0s 4ms/step - loss: 5.7400e-04 - val_loss: 0.0011\n",
      "Epoch 18/100\n",
      "30/30 [==============================] - 0s 4ms/step - loss: 6.3592e-04 - val_loss: 9.9872e-04\n",
      "Epoch 19/100\n",
      "30/30 [==============================] - 0s 4ms/step - loss: 6.6054e-04 - val_loss: 8.2515e-04\n",
      "Epoch 20/100\n",
      "30/30 [==============================] - 0s 4ms/step - loss: 6.3086e-04 - val_loss: 9.3125e-04\n",
      "Epoch 21/100\n",
      "30/30 [==============================] - 0s 4ms/step - loss: 5.4537e-04 - val_loss: 8.3013e-04\n",
      "Epoch 22/100\n",
      "30/30 [==============================] - 0s 4ms/step - loss: 6.9960e-04 - val_loss: 0.0011\n",
      "Epoch 23/100\n",
      "30/30 [==============================] - 0s 5ms/step - loss: 5.1672e-04 - val_loss: 9.6796e-04\n",
      "Epoch 24/100\n",
      "30/30 [==============================] - 0s 4ms/step - loss: 4.8904e-04 - val_loss: 8.2757e-04\n",
      "Epoch 25/100\n",
      "30/30 [==============================] - 0s 5ms/step - loss: 5.5530e-04 - val_loss: 9.3667e-04\n",
      "Epoch 26/100\n",
      "30/30 [==============================] - 0s 4ms/step - loss: 4.5167e-04 - val_loss: 7.7949e-04\n",
      "Epoch 27/100\n",
      "30/30 [==============================] - 0s 5ms/step - loss: 5.0885e-04 - val_loss: 7.4262e-04\n",
      "Epoch 28/100\n",
      "30/30 [==============================] - 0s 4ms/step - loss: 4.2946e-04 - val_loss: 6.9107e-04\n",
      "Epoch 29/100\n",
      "30/30 [==============================] - 0s 4ms/step - loss: 5.1043e-04 - val_loss: 8.1119e-04\n",
      "Epoch 30/100\n",
      "30/30 [==============================] - 0s 4ms/step - loss: 4.5232e-04 - val_loss: 8.2270e-04\n",
      "Epoch 31/100\n",
      "30/30 [==============================] - 0s 4ms/step - loss: 4.2394e-04 - val_loss: 7.7335e-04\n",
      "Epoch 32/100\n",
      "30/30 [==============================] - 0s 4ms/step - loss: 3.8268e-04 - val_loss: 7.4329e-04\n",
      "Epoch 33/100\n",
      "30/30 [==============================] - 0s 4ms/step - loss: 4.2835e-04 - val_loss: 7.4619e-04\n",
      "Epoch 34/100\n",
      "30/30 [==============================] - 0s 5ms/step - loss: 4.0002e-04 - val_loss: 9.3184e-04\n",
      "Epoch 35/100\n",
      "30/30 [==============================] - 0s 4ms/step - loss: 3.4974e-04 - val_loss: 8.6123e-04\n",
      "Epoch 36/100\n",
      "30/30 [==============================] - 0s 4ms/step - loss: 3.5039e-04 - val_loss: 8.1630e-04\n",
      "Epoch 37/100\n",
      "30/30 [==============================] - 0s 5ms/step - loss: 4.1821e-04 - val_loss: 6.9731e-04\n",
      "Epoch 38/100\n",
      "30/30 [==============================] - 0s 4ms/step - loss: 3.6154e-04 - val_loss: 6.7887e-04\n",
      "Epoch 39/100\n",
      "30/30 [==============================] - 0s 4ms/step - loss: 3.8931e-04 - val_loss: 8.3931e-04\n",
      "Epoch 40/100\n",
      "30/30 [==============================] - 0s 5ms/step - loss: 3.1042e-04 - val_loss: 6.6651e-04\n",
      "Epoch 41/100\n",
      "30/30 [==============================] - 0s 4ms/step - loss: 4.0827e-04 - val_loss: 6.7700e-04\n",
      "Epoch 42/100\n",
      "30/30 [==============================] - 0s 4ms/step - loss: 3.7286e-04 - val_loss: 6.3293e-04\n",
      "Epoch 43/100\n",
      "30/30 [==============================] - 0s 4ms/step - loss: 3.1581e-04 - val_loss: 6.4147e-04\n",
      "Epoch 44/100\n",
      "30/30 [==============================] - 0s 4ms/step - loss: 3.4672e-04 - val_loss: 7.8320e-04\n",
      "Epoch 45/100\n",
      "30/30 [==============================] - 0s 5ms/step - loss: 3.3810e-04 - val_loss: 7.5446e-04\n",
      "Epoch 46/100\n",
      "30/30 [==============================] - 0s 4ms/step - loss: 3.7209e-04 - val_loss: 8.4943e-04\n",
      "Epoch 47/100\n",
      "30/30 [==============================] - 0s 4ms/step - loss: 3.1410e-04 - val_loss: 6.4770e-04\n",
      "Epoch 48/100\n",
      "30/30 [==============================] - 0s 4ms/step - loss: 2.9366e-04 - val_loss: 6.4305e-04\n",
      "Epoch 49/100\n",
      "30/30 [==============================] - 0s 4ms/step - loss: 4.0788e-04 - val_loss: 6.7024e-04\n",
      "Epoch 50/100\n",
      "30/30 [==============================] - 0s 5ms/step - loss: 3.1458e-04 - val_loss: 6.2837e-04\n",
      "Epoch 51/100\n",
      "30/30 [==============================] - 0s 4ms/step - loss: 3.2224e-04 - val_loss: 7.5691e-04\n",
      "Epoch 52/100\n",
      "30/30 [==============================] - 0s 4ms/step - loss: 3.4403e-04 - val_loss: 6.3840e-04\n",
      "Epoch 53/100\n",
      "30/30 [==============================] - 0s 5ms/step - loss: 2.8710e-04 - val_loss: 6.1703e-04\n",
      "Epoch 54/100\n",
      "30/30 [==============================] - 0s 4ms/step - loss: 3.0784e-04 - val_loss: 6.2941e-04\n",
      "Epoch 55/100\n",
      "30/30 [==============================] - 0s 4ms/step - loss: 3.3230e-04 - val_loss: 6.5514e-04\n",
      "Epoch 56/100\n",
      "30/30 [==============================] - 0s 4ms/step - loss: 3.5321e-04 - val_loss: 6.8531e-04\n",
      "Epoch 57/100\n",
      "30/30 [==============================] - 0s 5ms/step - loss: 2.8013e-04 - val_loss: 6.0257e-04\n",
      "Epoch 58/100\n",
      "30/30 [==============================] - 0s 4ms/step - loss: 3.2802e-04 - val_loss: 7.4481e-04\n",
      "Epoch 59/100\n",
      "30/30 [==============================] - 0s 4ms/step - loss: 3.0523e-04 - val_loss: 7.0474e-04\n",
      "Epoch 60/100\n",
      "30/30 [==============================] - 0s 5ms/step - loss: 2.5321e-04 - val_loss: 6.2232e-04\n",
      "Epoch 61/100\n",
      "30/30 [==============================] - 0s 4ms/step - loss: 3.3815e-04 - val_loss: 6.4136e-04\n",
      "Epoch 62/100\n",
      "30/30 [==============================] - 0s 4ms/step - loss: 2.8980e-04 - val_loss: 6.1898e-04\n",
      "Epoch 63/100\n",
      "30/30 [==============================] - 0s 4ms/step - loss: 3.2232e-04 - val_loss: 7.5659e-04\n",
      "Epoch 64/100\n",
      "30/30 [==============================] - 0s 5ms/step - loss: 2.8535e-04 - val_loss: 7.5497e-04\n",
      "Epoch 65/100\n",
      "30/30 [==============================] - 0s 4ms/step - loss: 2.9776e-04 - val_loss: 6.5819e-04\n",
      "Epoch 66/100\n",
      "30/30 [==============================] - 0s 4ms/step - loss: 2.8941e-04 - val_loss: 5.6907e-04\n",
      "Epoch 67/100\n",
      "30/30 [==============================] - 0s 4ms/step - loss: 2.6755e-04 - val_loss: 6.0307e-04\n",
      "Epoch 68/100\n",
      "30/30 [==============================] - 0s 4ms/step - loss: 2.6756e-04 - val_loss: 6.1171e-04\n",
      "Epoch 69/100\n",
      "30/30 [==============================] - 0s 5ms/step - loss: 2.8582e-04 - val_loss: 6.1591e-04\n",
      "Epoch 70/100\n",
      "30/30 [==============================] - 0s 5ms/step - loss: 3.2959e-04 - val_loss: 5.8674e-04\n",
      "Epoch 71/100\n",
      "30/30 [==============================] - 0s 4ms/step - loss: 3.3068e-04 - val_loss: 5.7394e-04\n",
      "Epoch 72/100\n",
      "30/30 [==============================] - 0s 4ms/step - loss: 2.8363e-04 - val_loss: 5.5361e-04\n",
      "Epoch 73/100\n",
      "30/30 [==============================] - 0s 4ms/step - loss: 3.2282e-04 - val_loss: 5.9603e-04\n",
      "Epoch 74/100\n",
      "30/30 [==============================] - 0s 4ms/step - loss: 2.9951e-04 - val_loss: 5.5420e-04\n",
      "Epoch 75/100\n",
      "30/30 [==============================] - 0s 4ms/step - loss: 2.8235e-04 - val_loss: 6.9077e-04\n",
      "Epoch 76/100\n",
      "30/30 [==============================] - 0s 4ms/step - loss: 2.8682e-04 - val_loss: 6.5799e-04\n",
      "Epoch 77/100\n",
      "30/30 [==============================] - 0s 4ms/step - loss: 2.8309e-04 - val_loss: 6.2583e-04\n"
     ]
    },
    {
     "name": "stdout",
     "output_type": "stream",
     "text": [
      "Epoch 78/100\n",
      "30/30 [==============================] - 0s 5ms/step - loss: 2.8153e-04 - val_loss: 5.9273e-04\n",
      "Epoch 79/100\n",
      "30/30 [==============================] - 0s 5ms/step - loss: 2.6946e-04 - val_loss: 5.7635e-04\n",
      "Epoch 80/100\n",
      "30/30 [==============================] - 0s 4ms/step - loss: 2.9508e-04 - val_loss: 6.4550e-04\n",
      "Epoch 81/100\n",
      "30/30 [==============================] - 0s 5ms/step - loss: 2.5005e-04 - val_loss: 5.6941e-04\n",
      "Epoch 82/100\n",
      "30/30 [==============================] - 0s 4ms/step - loss: 3.1136e-04 - val_loss: 6.1424e-04\n",
      "Epoch 83/100\n",
      "30/30 [==============================] - 0s 4ms/step - loss: 2.4987e-04 - val_loss: 5.5528e-04\n",
      "Epoch 84/100\n",
      "30/30 [==============================] - 0s 4ms/step - loss: 2.5919e-04 - val_loss: 5.5116e-04\n",
      "Epoch 85/100\n",
      "30/30 [==============================] - 0s 4ms/step - loss: 2.7901e-04 - val_loss: 5.4030e-04\n",
      "Epoch 86/100\n",
      "30/30 [==============================] - 0s 4ms/step - loss: 2.5479e-04 - val_loss: 5.9487e-04\n",
      "Epoch 87/100\n",
      "30/30 [==============================] - 0s 4ms/step - loss: 2.6143e-04 - val_loss: 5.4047e-04\n",
      "Epoch 88/100\n",
      "30/30 [==============================] - 0s 4ms/step - loss: 2.6124e-04 - val_loss: 5.6701e-04\n",
      "Epoch 89/100\n",
      "30/30 [==============================] - 0s 4ms/step - loss: 2.7196e-04 - val_loss: 5.7137e-04\n",
      "Epoch 90/100\n",
      "30/30 [==============================] - 0s 4ms/step - loss: 2.7888e-04 - val_loss: 5.4178e-04\n",
      "Epoch 91/100\n",
      "30/30 [==============================] - 0s 4ms/step - loss: 2.9757e-04 - val_loss: 5.0631e-04\n",
      "Epoch 92/100\n",
      "30/30 [==============================] - 0s 4ms/step - loss: 2.5215e-04 - val_loss: 7.0617e-04\n",
      "Epoch 93/100\n",
      "30/30 [==============================] - 0s 4ms/step - loss: 2.4445e-04 - val_loss: 5.7524e-04\n",
      "Epoch 94/100\n",
      "30/30 [==============================] - 0s 4ms/step - loss: 3.3999e-04 - val_loss: 5.0379e-04\n",
      "Epoch 95/100\n",
      "30/30 [==============================] - 0s 4ms/step - loss: 2.6690e-04 - val_loss: 6.2065e-04\n",
      "Epoch 96/100\n",
      "30/30 [==============================] - 0s 4ms/step - loss: 2.4348e-04 - val_loss: 5.8768e-04\n",
      "Epoch 97/100\n",
      "30/30 [==============================] - 0s 5ms/step - loss: 2.7225e-04 - val_loss: 5.6363e-04\n",
      "Epoch 98/100\n",
      "30/30 [==============================] - 0s 5ms/step - loss: 3.5438e-04 - val_loss: 5.3615e-04\n",
      "Epoch 99/100\n",
      "30/30 [==============================] - 0s 4ms/step - loss: 2.7078e-04 - val_loss: 5.6835e-04\n",
      "Epoch 100/100\n",
      "30/30 [==============================] - 0s 4ms/step - loss: 2.3699e-04 - val_loss: 5.2138e-04\n"
     ]
    }
   ],
   "source": [
    "# Fitting the data\n",
    "history = model.fit(trainX,\n",
    "                    trainY,\n",
    "                    shuffle = False, # Since this is time series data\n",
    "                    epochs=100,\n",
    "                    batch_size=32,\n",
    "                    validation_split=0.2,\n",
    "                    verbose=1) # Verbose outputs data"
   ]
  },
  {
   "cell_type": "code",
   "execution_count": 26,
   "metadata": {},
   "outputs": [
    {
     "data": {
      "text/plain": [
       "<matplotlib.legend.Legend at 0x22b2a0864f0>"
      ]
     },
     "execution_count": 26,
     "metadata": {},
     "output_type": "execute_result"
    },
    {
     "data": {
      "image/png": "[encoded data removed]",
      "text/plain": [
       "<Figure size 432x288 with 1 Axes>"
      ]
     },
     "metadata": {
      "needs_background": "light"
     },
     "output_type": "display_data"
    }
   ],
   "source": [
    "# Plotting the loss iteration\n",
    "plt.plot(history.history['loss'], label = 'training loss')\n",
    "plt.plot(history.history['val_loss'], label ='validation loss')\n",
    "plt.legend()\n",
    "# Note:\n",
    "# if training loss >> validation loss -> Underfitting\n",
    "# if training loss << validation loss -> Overfitting (i.e model is smart enough to have mapped the entire dataset..)\n",
    "# Several ways to address overfitting:\n",
    "# Reduce complexity of model (hidden layers, neurons, parameters input etc)\n",
    "# Add dropout and tune rate\n",
    "# More data :)"
   ]
  },
  {
   "cell_type": "code",
   "execution_count": 27,
   "metadata": {},
   "outputs": [
    {
     "data": {
      "text/plain": [
       "<matplotlib.legend.Legend at 0x22b2a3f4fd0>"
      ]
     },
     "execution_count": 27,
     "metadata": {},
     "output_type": "execute_result"
    },
    {
     "data": {
      "image/png": "[encoded data removed]",
      "text/plain": [
       "<Figure size 432x288 with 1 Axes>"
      ]
     },
     "metadata": {
      "needs_background": "light"
     },
     "output_type": "display_data"
    }
   ],
   "source": [
    "# This is a one step forecast (based on how we constructed our model)\n",
    "y_pred = model.predict(testX)\n",
    "plt.plot(testY, label = 'True Value')\n",
    "plt.plot(y_pred, label = 'Forecasted Value')\n",
    "plt.legend()"
   ]
  },
  {
   "cell_type": "code",
   "execution_count": null,
   "metadata": {},
   "outputs": [],
   "source": [
    "# Predictions using the 'sliding/rolling window approach'\n",
    "# Multi step forecast.\n",
    "# Using self predictions for making future predictions\n",
    "# Very much different from a univariate -- You will need predictions (or known) values for your independent values.\n",
    "# Nonetheles, you will follow the same steps as shown for the univariate multi-step process."
   ]
  },
  {
   "cell_type": "code",
   "execution_count": null,
   "metadata": {},
   "outputs": [],
   "source": [
    "len(X[threshold:])"
   ]
  },
  {
   "cell_type": "code",
   "execution_count": null,
   "metadata": {},
   "outputs": [],
   "source": []
  }
 ],
 "metadata": {
  "kernelspec": {
   "display_name": "Python 3",
   "language": "python",
   "name": "python3"
  },
  "language_info": {
   "codemirror_mode": {
    "name": "ipython",
    "version": 3
   },
   "file_extension": ".py",
   "mimetype": "text/x-python",
   "name": "python",
   "nbconvert_exporter": "python",
   "pygments_lexer": "ipython3",
   "version": "3.8.5"
  }
 },
 "nbformat": 4,
 "nbformat_minor": 4
}
