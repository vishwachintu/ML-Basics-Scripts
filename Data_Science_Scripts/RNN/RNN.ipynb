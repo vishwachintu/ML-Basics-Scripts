{
 "cells": [
  {
   "cell_type": "markdown",
   "metadata": {},
   "source": [
    "# Demo of Recurrent Neural Networks"
   ]
  },
  {
   "cell_type": "code",
   "execution_count": 1,
   "metadata": {},
   "outputs": [],
   "source": [
    "# Standard Math / Data libraries\n",
    "import numpy as np\n",
    "import pandas as pd\n",
    "\n",
    "# Data Scrape Package\n",
    "import pandas_datareader.data as web\n",
    "\n",
    "# Plotting package\n",
    "import matplotlib.pyplot as plt\n",
    "# Scaling Package\n",
    "from sklearn.preprocessing import MinMaxScaler\n",
    "\n",
    "# Keras Network @ https://www.tensorflow.org/guide/keras/rnn\n",
    "import tensorflow as tf\n",
    "from tensorflow import keras\n",
    "from tensorflow.keras import layers\n",
    "\n",
    "# Set Random seed\n",
    "import random\n",
    "random.seed(2505)"
   ]
  },
  {
   "cell_type": "markdown",
   "metadata": {},
   "source": [
    "# Cleaning the Data "
   ]
  },
  {
   "cell_type": "code",
   "execution_count": 2,
   "metadata": {},
   "outputs": [],
   "source": [
    "# Daily Data on Gold.\n",
    "tick = 'GC=F'\n",
    "gold = web.get_data_yahoo(tick,'12/20/2015',interval='d')"
   ]
  },
  {
   "cell_type": "code",
   "execution_count": 3,
   "metadata": {},
   "outputs": [
    {
     "data": {
      "text/html": [
       "<div>\n",
       "<style scoped>\n",
       "    .dataframe tbody tr th:only-of-type {\n",
       "        vertical-align: middle;\n",
       "    }\n",
       "\n",
       "    .dataframe tbody tr th {\n",
       "        vertical-align: top;\n",
       "    }\n",
       "\n",
       "    .dataframe thead th {\n",
       "        text-align: right;\n",
       "    }\n",
       "</style>\n",
       "<table border=\"1\" class=\"dataframe\">\n",
       "  <thead>\n",
       "    <tr style=\"text-align: right;\">\n",
       "      <th></th>\n",
       "      <th>High</th>\n",
       "      <th>Low</th>\n",
       "      <th>Open</th>\n",
       "      <th>Close</th>\n",
       "      <th>Volume</th>\n",
       "      <th>Adj Close</th>\n",
       "    </tr>\n",
       "    <tr>\n",
       "      <th>Date</th>\n",
       "      <th></th>\n",
       "      <th></th>\n",
       "      <th></th>\n",
       "      <th></th>\n",
       "      <th></th>\n",
       "      <th></th>\n",
       "    </tr>\n",
       "  </thead>\n",
       "  <tbody>\n",
       "    <tr>\n",
       "      <th>2015-12-21</th>\n",
       "      <td>1081.900024</td>\n",
       "      <td>1070.199951</td>\n",
       "      <td>1070.199951</td>\n",
       "      <td>1081.900024</td>\n",
       "      <td>26.0</td>\n",
       "      <td>1081.900024</td>\n",
       "    </tr>\n",
       "    <tr>\n",
       "      <th>2015-12-22</th>\n",
       "      <td>1078.599976</td>\n",
       "      <td>1073.800049</td>\n",
       "      <td>1078.599976</td>\n",
       "      <td>1074.800049</td>\n",
       "      <td>106.0</td>\n",
       "      <td>1074.800049</td>\n",
       "    </tr>\n",
       "    <tr>\n",
       "      <th>2015-12-23</th>\n",
       "      <td>1074.800049</td>\n",
       "      <td>1069.400024</td>\n",
       "      <td>1074.500000</td>\n",
       "      <td>1069.400024</td>\n",
       "      <td>202.0</td>\n",
       "      <td>1069.400024</td>\n",
       "    </tr>\n",
       "    <tr>\n",
       "      <th>2015-12-24</th>\n",
       "      <td>1077.800049</td>\n",
       "      <td>1073.500000</td>\n",
       "      <td>1074.300049</td>\n",
       "      <td>1077.199951</td>\n",
       "      <td>24.0</td>\n",
       "      <td>1077.199951</td>\n",
       "    </tr>\n",
       "    <tr>\n",
       "      <th>2015-12-28</th>\n",
       "      <td>1098.800049</td>\n",
       "      <td>1070.500000</td>\n",
       "      <td>1077.900024</td>\n",
       "      <td>1070.500000</td>\n",
       "      <td>361.0</td>\n",
       "      <td>1070.500000</td>\n",
       "    </tr>\n",
       "    <tr>\n",
       "      <th>...</th>\n",
       "      <td>...</td>\n",
       "      <td>...</td>\n",
       "      <td>...</td>\n",
       "      <td>...</td>\n",
       "      <td>...</td>\n",
       "      <td>...</td>\n",
       "    </tr>\n",
       "    <tr>\n",
       "      <th>2020-12-14</th>\n",
       "      <td>1835.699951</td>\n",
       "      <td>1822.699951</td>\n",
       "      <td>1835.500000</td>\n",
       "      <td>1828.699951</td>\n",
       "      <td>258.0</td>\n",
       "      <td>1828.699951</td>\n",
       "    </tr>\n",
       "    <tr>\n",
       "      <th>2020-12-15</th>\n",
       "      <td>1853.599976</td>\n",
       "      <td>1833.199951</td>\n",
       "      <td>1833.500000</td>\n",
       "      <td>1852.300049</td>\n",
       "      <td>961.0</td>\n",
       "      <td>1852.300049</td>\n",
       "    </tr>\n",
       "    <tr>\n",
       "      <th>2020-12-16</th>\n",
       "      <td>1864.699951</td>\n",
       "      <td>1850.500000</td>\n",
       "      <td>1856.500000</td>\n",
       "      <td>1856.099976</td>\n",
       "      <td>1090.0</td>\n",
       "      <td>1856.099976</td>\n",
       "    </tr>\n",
       "    <tr>\n",
       "      <th>2020-12-17</th>\n",
       "      <td>1896.199951</td>\n",
       "      <td>1874.199951</td>\n",
       "      <td>1874.199951</td>\n",
       "      <td>1887.199951</td>\n",
       "      <td>414.0</td>\n",
       "      <td>1887.199951</td>\n",
       "    </tr>\n",
       "    <tr>\n",
       "      <th>2020-12-18</th>\n",
       "      <td>1889.500000</td>\n",
       "      <td>1882.300049</td>\n",
       "      <td>1882.400024</td>\n",
       "      <td>1885.699951</td>\n",
       "      <td>414.0</td>\n",
       "      <td>1885.699951</td>\n",
       "    </tr>\n",
       "  </tbody>\n",
       "</table>\n",
       "<p>1331 rows × 6 columns</p>\n",
       "</div>"
      ],
      "text/plain": [
       "                   High          Low         Open        Close  Volume  \\\n",
       "Date                                                                     \n",
       "2015-12-21  1081.900024  1070.199951  1070.199951  1081.900024    26.0   \n",
       "2015-12-22  1078.599976  1073.800049  1078.599976  1074.800049   106.0   \n",
       "2015-12-23  1074.800049  1069.400024  1074.500000  1069.400024   202.0   \n",
       "2015-12-24  1077.800049  1073.500000  1074.300049  1077.199951    24.0   \n",
       "2015-12-28  1098.800049  1070.500000  1077.900024  1070.500000   361.0   \n",
       "...                 ...          ...          ...          ...     ...   \n",
       "2020-12-14  1835.699951  1822.699951  1835.500000  1828.699951   258.0   \n",
       "2020-12-15  1853.599976  1833.199951  1833.500000  1852.300049   961.0   \n",
       "2020-12-16  1864.699951  1850.500000  1856.500000  1856.099976  1090.0   \n",
       "2020-12-17  1896.199951  1874.199951  1874.199951  1887.199951   414.0   \n",
       "2020-12-18  1889.500000  1882.300049  1882.400024  1885.699951   414.0   \n",
       "\n",
       "              Adj Close  \n",
       "Date                     \n",
       "2015-12-21  1081.900024  \n",
       "2015-12-22  1074.800049  \n",
       "2015-12-23  1069.400024  \n",
       "2015-12-24  1077.199951  \n",
       "2015-12-28  1070.500000  \n",
       "...                 ...  \n",
       "2020-12-14  1828.699951  \n",
       "2020-12-15  1852.300049  \n",
       "2020-12-16  1856.099976  \n",
       "2020-12-17  1887.199951  \n",
       "2020-12-18  1885.699951  \n",
       "\n",
       "[1331 rows x 6 columns]"
      ]
     },
     "execution_count": 3,
     "metadata": {},
     "output_type": "execute_result"
    }
   ],
   "source": [
    "gold"
   ]
  },
  {
   "cell_type": "code",
   "execution_count": 4,
   "metadata": {},
   "outputs": [
    {
     "data": {
      "text/plain": [
       "[<matplotlib.lines.Line2D at 0x22620ccbd90>]"
      ]
     },
     "execution_count": 4,
     "metadata": {},
     "output_type": "execute_result"
    },
    {
     "data": {
      "image/png": "[encoded data removed]",
      "text/plain": [
       "<Figure size 432x288 with 1 Axes>"
      ]
     },
     "metadata": {
      "needs_background": "light"
     },
     "output_type": "display_data"
    }
   ],
   "source": [
    "plt.plot(gold['Adj Close'])"
   ]
  },
  {
   "cell_type": "code",
   "execution_count": 5,
   "metadata": {},
   "outputs": [],
   "source": [
    "returns = gold['Adj Close'].pct_change() # Used for univariate example.\n",
    "\n",
    "column_names = gold.columns\n",
    "x = gold.values #returns a numpy array\n",
    "min_max_scaler = MinMaxScaler()\n",
    "x_scaled = min_max_scaler.fit_transform(x)\n",
    "df = pd.DataFrame(x_scaled)"
   ]
  },
  {
   "cell_type": "code",
   "execution_count": 6,
   "metadata": {},
   "outputs": [],
   "source": [
    "pct_c_gold = df"
   ]
  },
  {
   "cell_type": "code",
   "execution_count": 7,
   "metadata": {},
   "outputs": [],
   "source": [
    "pct_c_gold.columns = column_names"
   ]
  },
  {
   "cell_type": "code",
   "execution_count": 8,
   "metadata": {},
   "outputs": [
    {
     "data": {
      "text/html": [
       "<div>\n",
       "<style scoped>\n",
       "    .dataframe tbody tr th:only-of-type {\n",
       "        vertical-align: middle;\n",
       "    }\n",
       "\n",
       "    .dataframe tbody tr th {\n",
       "        vertical-align: top;\n",
       "    }\n",
       "\n",
       "    .dataframe thead th {\n",
       "        text-align: right;\n",
       "    }\n",
       "</style>\n",
       "<table border=\"1\" class=\"dataframe\">\n",
       "  <thead>\n",
       "    <tr style=\"text-align: right;\">\n",
       "      <th></th>\n",
       "      <th>High</th>\n",
       "      <th>Low</th>\n",
       "      <th>Open</th>\n",
       "      <th>Close</th>\n",
       "      <th>Volume</th>\n",
       "      <th>Adj Close</th>\n",
       "    </tr>\n",
       "  </thead>\n",
       "  <tbody>\n",
       "    <tr>\n",
       "      <th>0</th>\n",
       "      <td>0.019880</td>\n",
       "      <td>0.011920</td>\n",
       "      <td>0.008438</td>\n",
       "      <td>0.021989</td>\n",
       "      <td>0.000008</td>\n",
       "      <td>0.021989</td>\n",
       "    </tr>\n",
       "    <tr>\n",
       "      <th>1</th>\n",
       "      <td>0.016583</td>\n",
       "      <td>0.015588</td>\n",
       "      <td>0.016978</td>\n",
       "      <td>0.014828</td>\n",
       "      <td>0.000032</td>\n",
       "      <td>0.014828</td>\n",
       "    </tr>\n",
       "    <tr>\n",
       "      <th>2</th>\n",
       "      <td>0.012787</td>\n",
       "      <td>0.011105</td>\n",
       "      <td>0.012810</td>\n",
       "      <td>0.009381</td>\n",
       "      <td>0.000062</td>\n",
       "      <td>0.009381</td>\n",
       "    </tr>\n",
       "    <tr>\n",
       "      <th>3</th>\n",
       "      <td>0.015784</td>\n",
       "      <td>0.015283</td>\n",
       "      <td>0.012607</td>\n",
       "      <td>0.017248</td>\n",
       "      <td>0.000007</td>\n",
       "      <td>0.017248</td>\n",
       "    </tr>\n",
       "    <tr>\n",
       "      <th>4</th>\n",
       "      <td>0.036763</td>\n",
       "      <td>0.012226</td>\n",
       "      <td>0.016267</td>\n",
       "      <td>0.010490</td>\n",
       "      <td>0.000110</td>\n",
       "      <td>0.010490</td>\n",
       "    </tr>\n",
       "    <tr>\n",
       "      <th>...</th>\n",
       "      <td>...</td>\n",
       "      <td>...</td>\n",
       "      <td>...</td>\n",
       "      <td>...</td>\n",
       "      <td>...</td>\n",
       "      <td>...</td>\n",
       "    </tr>\n",
       "    <tr>\n",
       "      <th>1326</th>\n",
       "      <td>0.772927</td>\n",
       "      <td>0.778604</td>\n",
       "      <td>0.786499</td>\n",
       "      <td>0.775267</td>\n",
       "      <td>0.000079</td>\n",
       "      <td>0.775267</td>\n",
       "    </tr>\n",
       "    <tr>\n",
       "      <th>1327</th>\n",
       "      <td>0.790809</td>\n",
       "      <td>0.789302</td>\n",
       "      <td>0.784465</td>\n",
       "      <td>0.799072</td>\n",
       "      <td>0.000294</td>\n",
       "      <td>0.799072</td>\n",
       "    </tr>\n",
       "    <tr>\n",
       "      <th>1328</th>\n",
       "      <td>0.801898</td>\n",
       "      <td>0.806928</td>\n",
       "      <td>0.807849</td>\n",
       "      <td>0.802905</td>\n",
       "      <td>0.000333</td>\n",
       "      <td>0.802905</td>\n",
       "    </tr>\n",
       "    <tr>\n",
       "      <th>1329</th>\n",
       "      <td>0.833367</td>\n",
       "      <td>0.831075</td>\n",
       "      <td>0.825844</td>\n",
       "      <td>0.834275</td>\n",
       "      <td>0.000127</td>\n",
       "      <td>0.834275</td>\n",
       "    </tr>\n",
       "    <tr>\n",
       "      <th>1330</th>\n",
       "      <td>0.826673</td>\n",
       "      <td>0.839328</td>\n",
       "      <td>0.834181</td>\n",
       "      <td>0.832762</td>\n",
       "      <td>0.000127</td>\n",
       "      <td>0.832762</td>\n",
       "    </tr>\n",
       "  </tbody>\n",
       "</table>\n",
       "<p>1331 rows × 6 columns</p>\n",
       "</div>"
      ],
      "text/plain": [
       "          High       Low      Open     Close    Volume  Adj Close\n",
       "0     0.019880  0.011920  0.008438  0.021989  0.000008   0.021989\n",
       "1     0.016583  0.015588  0.016978  0.014828  0.000032   0.014828\n",
       "2     0.012787  0.011105  0.012810  0.009381  0.000062   0.009381\n",
       "3     0.015784  0.015283  0.012607  0.017248  0.000007   0.017248\n",
       "4     0.036763  0.012226  0.016267  0.010490  0.000110   0.010490\n",
       "...        ...       ...       ...       ...       ...        ...\n",
       "1326  0.772927  0.778604  0.786499  0.775267  0.000079   0.775267\n",
       "1327  0.790809  0.789302  0.784465  0.799072  0.000294   0.799072\n",
       "1328  0.801898  0.806928  0.807849  0.802905  0.000333   0.802905\n",
       "1329  0.833367  0.831075  0.825844  0.834275  0.000127   0.834275\n",
       "1330  0.826673  0.839328  0.834181  0.832762  0.000127   0.832762\n",
       "\n",
       "[1331 rows x 6 columns]"
      ]
     },
     "execution_count": 8,
     "metadata": {},
     "output_type": "execute_result"
    }
   ],
   "source": [
    "pct_c_gold"
   ]
  },
  {
   "cell_type": "markdown",
   "metadata": {},
   "source": [
    "# Univariate Forecasting (RNN)"
   ]
  },
  {
   "cell_type": "code",
   "execution_count": 9,
   "metadata": {},
   "outputs": [
    {
     "data": {
      "text/plain": [
       "Date\n",
       "2015-12-21         NaN\n",
       "2015-12-22   -0.006563\n",
       "2015-12-23   -0.005024\n",
       "2015-12-24    0.007294\n",
       "2015-12-28   -0.006220\n",
       "                ...   \n",
       "2020-12-14   -0.006033\n",
       "2020-12-15    0.012905\n",
       "2020-12-16    0.002051\n",
       "2020-12-17    0.016756\n",
       "2020-12-18   -0.000795\n",
       "Name: Adj Close, Length: 1331, dtype: float64"
      ]
     },
     "execution_count": 9,
     "metadata": {},
     "output_type": "execute_result"
    }
   ],
   "source": [
    "returns"
   ]
  },
  {
   "cell_type": "code",
   "execution_count": 10,
   "metadata": {},
   "outputs": [
    {
     "data": {
      "text/plain": [
       "[<matplotlib.lines.Line2D at 0x22621fc1dc0>]"
      ]
     },
     "execution_count": 10,
     "metadata": {},
     "output_type": "execute_result"
    },
    {
     "data": {
      "image/png": "[encoded data removed]",
      "text/plain": [
       "<Figure size 432x288 with 1 Axes>"
      ]
     },
     "metadata": {
      "needs_background": "light"
     },
     "output_type": "display_data"
    }
   ],
   "source": [
    "plt.plot(returns)"
   ]
  },
  {
   "cell_type": "code",
   "execution_count": 11,
   "metadata": {},
   "outputs": [
    {
     "data": {
      "text/plain": [
       "<AxesSubplot:>"
      ]
     },
     "execution_count": 11,
     "metadata": {},
     "output_type": "execute_result"
    },
    {
     "data": {
      "image/png": "[encoded data removed]",
      "text/plain": [
       "<Figure size 432x288 with 1 Axes>"
      ]
     },
     "metadata": {
      "needs_background": "light"
     },
     "output_type": "display_data"
    }
   ],
   "source": [
    "returns.hist()"
   ]
  },
  {
   "cell_type": "code",
   "execution_count": 12,
   "metadata": {},
   "outputs": [
    {
     "name": "stdout",
     "output_type": "stream",
     "text": [
      "1330\n",
      "1330\n"
     ]
    }
   ],
   "source": [
    "# Flatten this matrix down.\n",
    "npa = returns.values[1:].reshape(-1,1) # Python is smart to recognize whatever dimension you need by using this parameter\n",
    "print(len(npa))\n",
    "# # Let's scale the data -- this helps avoid the exploding gradient issue\n",
    "scale = MinMaxScaler(feature_range=(0,1)) # This is by default.\n",
    "npa = scale.fit_transform(npa)\n",
    "print(len(npa))"
   ]
  },
  {
   "cell_type": "code",
   "execution_count": 13,
   "metadata": {},
   "outputs": [
    {
     "name": "stdout",
     "output_type": "stream",
     "text": [
      "Training Data: Length is  10 :  [array([[0.39559946],\n",
      "       [0.40967815],\n",
      "       [0.52241392],\n",
      "       [0.39873611],\n",
      "       [0.51550642],\n",
      "       [0.30786687],\n",
      "       [0.4573878 ],\n",
      "       [0.58340846],\n",
      "       [0.48375329],\n",
      "       [0.57023212]])]\n",
      "Testing Data: Length is  1 :  [0.5880932447278658]\n"
     ]
    }
   ],
   "source": [
    "# Need the data to be in the form [sample, time steps, features (dimension of each element)]\n",
    "samples = 10 # Number of samples (in past)\n",
    "steps = 1 # Number of steps (in future)\n",
    "X = [] # X array\n",
    "Y = [] # Y array\n",
    "for i in range(npa.shape[0] - samples):\n",
    "    X.append(npa[i:i+samples]) # Independent Samples\n",
    "    Y.append(npa[i+samples][0]) # Dependent Samples\n",
    "print('Training Data: Length is ',len(X[0:1][0]),': ', X[0:1])\n",
    "print('Testing Data: Length is ', len(Y[0:1]),': ', Y[0:1])"
   ]
  },
  {
   "cell_type": "code",
   "execution_count": 14,
   "metadata": {},
   "outputs": [
    {
     "name": "stdout",
     "output_type": "stream",
     "text": [
      "Dimensions of X (1320, 10, 1) Dimensions of Y (1320,)\n",
      "Threshold is 1188\n"
     ]
    }
   ],
   "source": [
    "#Reshape the data so that the inputs will be acceptable to the model.\n",
    "X = np.array(X)\n",
    "Y = np.array(Y)\n",
    "print('Dimensions of X', X.shape, 'Dimensions of Y', Y.shape)\n",
    "\n",
    "threshold = round(0.9 * X.shape[0])\n",
    "print('Threshold is', threshold)"
   ]
  },
  {
   "cell_type": "code",
   "execution_count": 15,
   "metadata": {},
   "outputs": [
    {
     "name": "stdout",
     "output_type": "stream",
     "text": [
      "Model: \"sequential\"\n",
      "_________________________________________________________________\n",
      "Layer (type)                 Output Shape              Param #   \n",
      "=================================================================\n",
      "simple_rnn (SimpleRNN)       (None, 3)                 15        \n",
      "_________________________________________________________________\n",
      "dropout (Dropout)            (None, 3)                 0         \n",
      "_________________________________________________________________\n",
      "dense (Dense)                (None, 1)                 4         \n",
      "=================================================================\n",
      "Total params: 19\n",
      "Trainable params: 19\n",
      "Non-trainable params: 0\n",
      "_________________________________________________________________\n"
     ]
    }
   ],
   "source": [
    "# Let's build the RNN\n",
    "model = keras.Sequential()\n",
    "\n",
    "# Add a RNN layer with 3 units.\n",
    "model.add(layers.SimpleRNN(3,\n",
    "                           activation = 'tanh',\n",
    "                           use_bias=True,\n",
    "                           input_shape=(X.shape[1], X.shape[2])))\n",
    "# Add a dropout layer (penalizing more complex models) -- prevents overfitting\n",
    "model.add(layers.Dropout(rate=0.2))\n",
    "\n",
    "\n",
    "# Add a Dense layer with 1 units (Since we are doing a regression task.\n",
    "model.add(layers.Dense(1))\n",
    "\n",
    "# Evaluating loss function of MSE using the adam optimizer.\n",
    "model.compile(loss='mean_squared_error', optimizer = 'adam')\n",
    "\n",
    "# Print out architecture.\n",
    "model.summary()"
   ]
  },
  {
   "cell_type": "code",
   "execution_count": 16,
   "metadata": {},
   "outputs": [
    {
     "name": "stdout",
     "output_type": "stream",
     "text": [
      "Epoch 1/100\n",
      "30/30 [==============================] - 2s 31ms/step - loss: 0.2193 - val_loss: 0.1606\n",
      "Epoch 2/100\n",
      "30/30 [==============================] - 0s 3ms/step - loss: 0.1259 - val_loss: 0.0872\n",
      "Epoch 3/100\n",
      "30/30 [==============================] - 0s 2ms/step - loss: 0.0694 - val_loss: 0.0512\n",
      "Epoch 4/100\n",
      "30/30 [==============================] - 0s 3ms/step - loss: 0.0472 - val_loss: 0.0412\n",
      "Epoch 5/100\n",
      "30/30 [==============================] - 0s 3ms/step - loss: 0.0440 - val_loss: 0.0378\n",
      "Epoch 6/100\n",
      "30/30 [==============================] - 0s 2ms/step - loss: 0.0340 - val_loss: 0.0348\n",
      "Epoch 7/100\n",
      "30/30 [==============================] - 0s 3ms/step - loss: 0.0357 - val_loss: 0.0322\n",
      "Epoch 8/100\n",
      "30/30 [==============================] - 0s 2ms/step - loss: 0.0352 - val_loss: 0.0300\n",
      "Epoch 9/100\n",
      "30/30 [==============================] - 0s 3ms/step - loss: 0.0287 - val_loss: 0.0279\n",
      "Epoch 10/100\n",
      "30/30 [==============================] - 0s 3ms/step - loss: 0.0319 - val_loss: 0.0264\n",
      "Epoch 11/100\n",
      "30/30 [==============================] - 0s 3ms/step - loss: 0.0275 - val_loss: 0.0246\n",
      "Epoch 12/100\n",
      "30/30 [==============================] - 0s 2ms/step - loss: 0.0248 - val_loss: 0.0234\n",
      "Epoch 13/100\n",
      "30/30 [==============================] - 0s 3ms/step - loss: 0.0222 - val_loss: 0.0223\n",
      "Epoch 14/100\n",
      "30/30 [==============================] - 0s 2ms/step - loss: 0.0225 - val_loss: 0.0211\n",
      "Epoch 15/100\n",
      "30/30 [==============================] - 0s 2ms/step - loss: 0.0220 - val_loss: 0.0204\n",
      "Epoch 16/100\n",
      "30/30 [==============================] - 0s 3ms/step - loss: 0.0194 - val_loss: 0.0193\n",
      "Epoch 17/100\n",
      "30/30 [==============================] - 0s 2ms/step - loss: 0.0195 - val_loss: 0.0189\n",
      "Epoch 18/100\n",
      "30/30 [==============================] - 0s 2ms/step - loss: 0.0190 - val_loss: 0.0181\n",
      "Epoch 19/100\n",
      "30/30 [==============================] - 0s 2ms/step - loss: 0.0175 - val_loss: 0.0174\n",
      "Epoch 20/100\n",
      "30/30 [==============================] - 0s 2ms/step - loss: 0.0155 - val_loss: 0.0170\n",
      "Epoch 21/100\n",
      "30/30 [==============================] - 0s 2ms/step - loss: 0.0158 - val_loss: 0.0165\n",
      "Epoch 22/100\n",
      "30/30 [==============================] - 0s 2ms/step - loss: 0.0139 - val_loss: 0.0162\n",
      "Epoch 23/100\n",
      "30/30 [==============================] - 0s 2ms/step - loss: 0.0142 - val_loss: 0.0158\n",
      "Epoch 24/100\n",
      "30/30 [==============================] - 0s 2ms/step - loss: 0.0139 - val_loss: 0.0153\n",
      "Epoch 25/100\n",
      "30/30 [==============================] - 0s 2ms/step - loss: 0.0139 - val_loss: 0.0152\n",
      "Epoch 26/100\n",
      "30/30 [==============================] - 0s 2ms/step - loss: 0.0138 - val_loss: 0.0147\n",
      "Epoch 27/100\n",
      "30/30 [==============================] - 0s 2ms/step - loss: 0.0126 - val_loss: 0.0145\n",
      "Epoch 28/100\n",
      "30/30 [==============================] - 0s 2ms/step - loss: 0.0131 - val_loss: 0.0143\n",
      "Epoch 29/100\n",
      "30/30 [==============================] - 0s 2ms/step - loss: 0.0128 - val_loss: 0.0141\n",
      "Epoch 30/100\n",
      "30/30 [==============================] - 0s 2ms/step - loss: 0.0116 - val_loss: 0.0139\n",
      "Epoch 31/100\n",
      "30/30 [==============================] - 0s 2ms/step - loss: 0.0119 - val_loss: 0.0138\n",
      "Epoch 32/100\n",
      "30/30 [==============================] - 0s 2ms/step - loss: 0.0110 - val_loss: 0.0137\n",
      "Epoch 33/100\n",
      "30/30 [==============================] - 0s 2ms/step - loss: 0.0106 - val_loss: 0.0135\n",
      "Epoch 34/100\n",
      "30/30 [==============================] - 0s 2ms/step - loss: 0.0099 - val_loss: 0.0134\n",
      "Epoch 35/100\n",
      "30/30 [==============================] - 0s 2ms/step - loss: 0.0109 - val_loss: 0.0133\n",
      "Epoch 36/100\n",
      "30/30 [==============================] - 0s 2ms/step - loss: 0.0099 - val_loss: 0.0132\n",
      "Epoch 37/100\n",
      "30/30 [==============================] - 0s 3ms/step - loss: 0.0095 - val_loss: 0.0131\n",
      "Epoch 38/100\n",
      "30/30 [==============================] - 0s 3ms/step - loss: 0.0102 - val_loss: 0.0130\n",
      "Epoch 39/100\n",
      "30/30 [==============================] - 0s 2ms/step - loss: 0.0097 - val_loss: 0.0130\n",
      "Epoch 40/100\n",
      "30/30 [==============================] - 0s 2ms/step - loss: 0.0099 - val_loss: 0.0129\n",
      "Epoch 41/100\n",
      "30/30 [==============================] - 0s 3ms/step - loss: 0.0095 - val_loss: 0.0129\n",
      "Epoch 42/100\n",
      "30/30 [==============================] - 0s 2ms/step - loss: 0.0094 - val_loss: 0.0128\n",
      "Epoch 43/100\n",
      "30/30 [==============================] - 0s 2ms/step - loss: 0.0087 - val_loss: 0.0128\n",
      "Epoch 44/100\n",
      "30/30 [==============================] - 0s 2ms/step - loss: 0.0091 - val_loss: 0.0127\n",
      "Epoch 45/100\n",
      "30/30 [==============================] - 0s 2ms/step - loss: 0.0094 - val_loss: 0.0127\n",
      "Epoch 46/100\n",
      "30/30 [==============================] - 0s 2ms/step - loss: 0.0091 - val_loss: 0.0126\n",
      "Epoch 47/100\n",
      "30/30 [==============================] - 0s 2ms/step - loss: 0.0083 - val_loss: 0.0126\n",
      "Epoch 48/100\n",
      "30/30 [==============================] - 0s 2ms/step - loss: 0.0087 - val_loss: 0.0126\n",
      "Epoch 49/100\n",
      "30/30 [==============================] - 0s 2ms/step - loss: 0.0085 - val_loss: 0.0125\n",
      "Epoch 50/100\n",
      "30/30 [==============================] - 0s 2ms/step - loss: 0.0082 - val_loss: 0.0125\n",
      "Epoch 51/100\n",
      "30/30 [==============================] - 0s 3ms/step - loss: 0.0080 - val_loss: 0.0125\n",
      "Epoch 52/100\n",
      "30/30 [==============================] - 0s 3ms/step - loss: 0.0080 - val_loss: 0.0125\n",
      "Epoch 53/100\n",
      "30/30 [==============================] - 0s 2ms/step - loss: 0.0084 - val_loss: 0.0125\n",
      "Epoch 54/100\n",
      "30/30 [==============================] - 0s 2ms/step - loss: 0.0082 - val_loss: 0.0124\n",
      "Epoch 55/100\n",
      "30/30 [==============================] - 0s 2ms/step - loss: 0.0080 - val_loss: 0.0124\n",
      "Epoch 56/100\n",
      "30/30 [==============================] - 0s 2ms/step - loss: 0.0081 - val_loss: 0.0124\n",
      "Epoch 57/100\n",
      "30/30 [==============================] - 0s 2ms/step - loss: 0.0080 - val_loss: 0.0124\n",
      "Epoch 58/100\n",
      "30/30 [==============================] - 0s 2ms/step - loss: 0.0085 - val_loss: 0.0124\n",
      "Epoch 59/100\n",
      "30/30 [==============================] - 0s 2ms/step - loss: 0.0076 - val_loss: 0.0124\n",
      "Epoch 60/100\n",
      "30/30 [==============================] - 0s 2ms/step - loss: 0.0078 - val_loss: 0.0124\n",
      "Epoch 61/100\n",
      "30/30 [==============================] - 0s 2ms/step - loss: 0.0077 - val_loss: 0.0124\n",
      "Epoch 62/100\n",
      "30/30 [==============================] - 0s 2ms/step - loss: 0.0079 - val_loss: 0.0124\n",
      "Epoch 63/100\n",
      "30/30 [==============================] - 0s 2ms/step - loss: 0.0075 - val_loss: 0.0124\n",
      "Epoch 64/100\n",
      "30/30 [==============================] - 0s 2ms/step - loss: 0.0075 - val_loss: 0.0123\n",
      "Epoch 65/100\n",
      "30/30 [==============================] - 0s 2ms/step - loss: 0.0079 - val_loss: 0.0124\n",
      "Epoch 66/100\n",
      "30/30 [==============================] - 0s 2ms/step - loss: 0.0076 - val_loss: 0.0124\n",
      "Epoch 67/100\n",
      "30/30 [==============================] - 0s 2ms/step - loss: 0.0075 - val_loss: 0.0123\n",
      "Epoch 68/100\n",
      "30/30 [==============================] - 0s 2ms/step - loss: 0.0078 - val_loss: 0.0123\n",
      "Epoch 69/100\n",
      "30/30 [==============================] - 0s 2ms/step - loss: 0.0075 - val_loss: 0.0123\n",
      "Epoch 70/100\n",
      "30/30 [==============================] - 0s 2ms/step - loss: 0.0076 - val_loss: 0.0123\n",
      "Epoch 71/100\n",
      "30/30 [==============================] - 0s 2ms/step - loss: 0.0078 - val_loss: 0.0123\n",
      "Epoch 72/100\n",
      "30/30 [==============================] - 0s 2ms/step - loss: 0.0074 - val_loss: 0.0123\n",
      "Epoch 73/100\n",
      "30/30 [==============================] - 0s 2ms/step - loss: 0.0075 - val_loss: 0.0123\n",
      "Epoch 74/100\n",
      "30/30 [==============================] - 0s 3ms/step - loss: 0.0075 - val_loss: 0.0123\n",
      "Epoch 75/100\n",
      "30/30 [==============================] - 0s 2ms/step - loss: 0.0077 - val_loss: 0.0123\n",
      "Epoch 76/100\n",
      "30/30 [==============================] - 0s 2ms/step - loss: 0.0074 - val_loss: 0.0123\n",
      "Epoch 77/100\n",
      "30/30 [==============================] - 0s 2ms/step - loss: 0.0074 - val_loss: 0.0123\n",
      "Epoch 78/100\n",
      "30/30 [==============================] - 0s 2ms/step - loss: 0.0075 - val_loss: 0.0123\n",
      "Epoch 79/100\n",
      "30/30 [==============================] - 0s 3ms/step - loss: 0.0073 - val_loss: 0.0123\n",
      "Epoch 80/100\n",
      "30/30 [==============================] - 0s 2ms/step - loss: 0.0073 - val_loss: 0.0123\n",
      "Epoch 81/100\n",
      "30/30 [==============================] - 0s 2ms/step - loss: 0.0072 - val_loss: 0.0123\n",
      "Epoch 82/100\n",
      "30/30 [==============================] - 0s 2ms/step - loss: 0.0073 - val_loss: 0.0123\n",
      "Epoch 83/100\n"
     ]
    },
    {
     "name": "stdout",
     "output_type": "stream",
     "text": [
      "30/30 [==============================] - 0s 3ms/step - loss: 0.0075 - val_loss: 0.0123\n",
      "Epoch 84/100\n",
      "30/30 [==============================] - 0s 3ms/step - loss: 0.0074 - val_loss: 0.0123\n",
      "Epoch 85/100\n",
      "30/30 [==============================] - 0s 3ms/step - loss: 0.0072 - val_loss: 0.0123\n",
      "Epoch 86/100\n",
      "30/30 [==============================] - 0s 2ms/step - loss: 0.0073 - val_loss: 0.0123\n",
      "Epoch 87/100\n",
      "30/30 [==============================] - 0s 2ms/step - loss: 0.0074 - val_loss: 0.0123\n",
      "Epoch 88/100\n",
      "30/30 [==============================] - 0s 2ms/step - loss: 0.0074 - val_loss: 0.0123\n",
      "Epoch 89/100\n",
      "30/30 [==============================] - 0s 3ms/step - loss: 0.0074 - val_loss: 0.0123\n",
      "Epoch 90/100\n",
      "30/30 [==============================] - 0s 2ms/step - loss: 0.0072 - val_loss: 0.0123\n",
      "Epoch 91/100\n",
      "30/30 [==============================] - 0s 2ms/step - loss: 0.0073 - val_loss: 0.0123\n",
      "Epoch 92/100\n",
      "30/30 [==============================] - 0s 2ms/step - loss: 0.0073 - val_loss: 0.0123\n",
      "Epoch 93/100\n",
      "30/30 [==============================] - 0s 3ms/step - loss: 0.0073 - val_loss: 0.0123\n",
      "Epoch 94/100\n",
      "30/30 [==============================] - 0s 2ms/step - loss: 0.0073 - val_loss: 0.0123\n",
      "Epoch 95/100\n",
      "30/30 [==============================] - 0s 2ms/step - loss: 0.0073 - val_loss: 0.0123\n",
      "Epoch 96/100\n",
      "30/30 [==============================] - 0s 2ms/step - loss: 0.0073 - val_loss: 0.0123\n",
      "Epoch 97/100\n",
      "30/30 [==============================] - 0s 2ms/step - loss: 0.0072 - val_loss: 0.0123\n",
      "Epoch 98/100\n",
      "30/30 [==============================] - 0s 2ms/step - loss: 0.0072 - val_loss: 0.0123\n",
      "Epoch 99/100\n",
      "30/30 [==============================] - 0s 2ms/step - loss: 0.0072 - val_loss: 0.0123\n",
      "Epoch 100/100\n",
      "30/30 [==============================] - 0s 2ms/step - loss: 0.0072 - val_loss: 0.0123\n"
     ]
    }
   ],
   "source": [
    "# Fitting the data\n",
    "history = model.fit(X[:threshold],\n",
    "                    Y[:threshold],\n",
    "                    shuffle = False, # Since this is time series data\n",
    "                    epochs=100,\n",
    "                    batch_size=32,\n",
    "                    validation_split=0.2,\n",
    "                    verbose=1) # Verbose outputs data"
   ]
  },
  {
   "cell_type": "code",
   "execution_count": 17,
   "metadata": {},
   "outputs": [
    {
     "data": {
      "text/plain": [
       "<matplotlib.legend.Legend at 0x2262d023460>"
      ]
     },
     "execution_count": 17,
     "metadata": {},
     "output_type": "execute_result"
    },
    {
     "data": {
      "image/png": "[encoded data removed]",
      "text/plain": [
       "<Figure size 432x288 with 1 Axes>"
      ]
     },
     "metadata": {
      "needs_background": "light"
     },
     "output_type": "display_data"
    }
   ],
   "source": [
    "# Plotting the loss iteration\n",
    "plt.plot(history.history['loss'], label = 'training loss')\n",
    "plt.plot(history.history['val_loss'], label ='validation loss')\n",
    "plt.legend()\n",
    "# Note:\n",
    "# if training loss >> validation loss -> Underfitting\n",
    "# if training loss << validation loss -> Overfitting (i.e model is smart enough to have mapped the entire dataset..)\n",
    "# Several ways to address overfitting:\n",
    "# Reduce complexity of model (hidden layers, neurons, parameters input etc)\n",
    "# Add dropout and tune rate\n",
    "# More data :)"
   ]
  },
  {
   "cell_type": "markdown",
   "metadata": {},
   "source": [
    "# Multi-Step Forecast"
   ]
  },
  {
   "cell_type": "code",
   "execution_count": 18,
   "metadata": {},
   "outputs": [
    {
     "name": "stdout",
     "output_type": "stream",
     "text": [
      "Number of Forecasts to do:  132\n"
     ]
    }
   ],
   "source": [
    "# Predictions using the 'sliding/rolling window approach'\n",
    "# Multi step forecast.\n",
    "# Using self predictions for making future predictions\n",
    "\n",
    "true_Y = Y[threshold:]\n",
    "pred_Y = []\n",
    "print('Number of Forecasts to do: ',Y.shape[0] - round(Y.shape[0]*0.9))\n",
    "latest_input = X[threshold-1:threshold]\n",
    "for i in range(Y.shape[0] - round(Y.shape[0]*0.9) ):\n",
    "    # Prediction\n",
    "    p = model.predict(latest_input.reshape(1,X.shape[1],1))[0,0]\n",
    "    \n",
    "    # Update predictions\n",
    "    pred_Y.append(p)\n",
    "    latest_input = np.append(X[threshold][1:], p)"
   ]
  },
  {
   "cell_type": "code",
   "execution_count": 19,
   "metadata": {},
   "outputs": [
    {
     "data": {
      "text/plain": [
       "<matplotlib.legend.Legend at 0x2262e6e25e0>"
      ]
     },
     "execution_count": 19,
     "metadata": {},
     "output_type": "execute_result"
    },
    {
     "data": {
      "image/png": "[encoded data removed]",
      "text/plain": [
       "<Figure size 432x288 with 1 Axes>"
      ]
     },
     "metadata": {
      "needs_background": "light"
     },
     "output_type": "display_data"
    }
   ],
   "source": [
    "plt.plot(true_Y, label = 'True Value')\n",
    "plt.plot(pred_Y, label = 'Forecasted Value')\n",
    "plt.legend()\n",
    "# Model just copied the same value over and over again. Hence, model is not very robust.\n",
    "# It's just predicting the mean."
   ]
  },
  {
   "cell_type": "code",
   "execution_count": null,
   "metadata": {},
   "outputs": [],
   "source": []
  },
  {
   "cell_type": "code",
   "execution_count": null,
   "metadata": {},
   "outputs": [],
   "source": []
  },
  {
   "cell_type": "code",
   "execution_count": null,
   "metadata": {},
   "outputs": [],
   "source": []
  },
  {
   "cell_type": "code",
   "execution_count": null,
   "metadata": {},
   "outputs": [],
   "source": []
  },
  {
   "cell_type": "code",
   "execution_count": null,
   "metadata": {},
   "outputs": [],
   "source": []
  },
  {
   "cell_type": "code",
   "execution_count": 20,
   "metadata": {},
   "outputs": [
    {
     "data": {
      "text/html": [
       "<div>\n",
       "<style scoped>\n",
       "    .dataframe tbody tr th:only-of-type {\n",
       "        vertical-align: middle;\n",
       "    }\n",
       "\n",
       "    .dataframe tbody tr th {\n",
       "        vertical-align: top;\n",
       "    }\n",
       "\n",
       "    .dataframe thead th {\n",
       "        text-align: right;\n",
       "    }\n",
       "</style>\n",
       "<table border=\"1\" class=\"dataframe\">\n",
       "  <thead>\n",
       "    <tr style=\"text-align: right;\">\n",
       "      <th></th>\n",
       "      <th>High</th>\n",
       "      <th>Low</th>\n",
       "      <th>Open</th>\n",
       "      <th>Close</th>\n",
       "      <th>Volume</th>\n",
       "      <th>Adj Close</th>\n",
       "    </tr>\n",
       "  </thead>\n",
       "  <tbody>\n",
       "    <tr>\n",
       "      <th>0</th>\n",
       "      <td>0.019880</td>\n",
       "      <td>0.011920</td>\n",
       "      <td>0.008438</td>\n",
       "      <td>0.021989</td>\n",
       "      <td>0.000008</td>\n",
       "      <td>0.021989</td>\n",
       "    </tr>\n",
       "    <tr>\n",
       "      <th>1</th>\n",
       "      <td>0.016583</td>\n",
       "      <td>0.015588</td>\n",
       "      <td>0.016978</td>\n",
       "      <td>0.014828</td>\n",
       "      <td>0.000032</td>\n",
       "      <td>0.014828</td>\n",
       "    </tr>\n",
       "    <tr>\n",
       "      <th>2</th>\n",
       "      <td>0.012787</td>\n",
       "      <td>0.011105</td>\n",
       "      <td>0.012810</td>\n",
       "      <td>0.009381</td>\n",
       "      <td>0.000062</td>\n",
       "      <td>0.009381</td>\n",
       "    </tr>\n",
       "    <tr>\n",
       "      <th>3</th>\n",
       "      <td>0.015784</td>\n",
       "      <td>0.015283</td>\n",
       "      <td>0.012607</td>\n",
       "      <td>0.017248</td>\n",
       "      <td>0.000007</td>\n",
       "      <td>0.017248</td>\n",
       "    </tr>\n",
       "    <tr>\n",
       "      <th>4</th>\n",
       "      <td>0.036763</td>\n",
       "      <td>0.012226</td>\n",
       "      <td>0.016267</td>\n",
       "      <td>0.010490</td>\n",
       "      <td>0.000110</td>\n",
       "      <td>0.010490</td>\n",
       "    </tr>\n",
       "    <tr>\n",
       "      <th>...</th>\n",
       "      <td>...</td>\n",
       "      <td>...</td>\n",
       "      <td>...</td>\n",
       "      <td>...</td>\n",
       "      <td>...</td>\n",
       "      <td>...</td>\n",
       "    </tr>\n",
       "    <tr>\n",
       "      <th>1326</th>\n",
       "      <td>0.772927</td>\n",
       "      <td>0.778604</td>\n",
       "      <td>0.786499</td>\n",
       "      <td>0.775267</td>\n",
       "      <td>0.000079</td>\n",
       "      <td>0.775267</td>\n",
       "    </tr>\n",
       "    <tr>\n",
       "      <th>1327</th>\n",
       "      <td>0.790809</td>\n",
       "      <td>0.789302</td>\n",
       "      <td>0.784465</td>\n",
       "      <td>0.799072</td>\n",
       "      <td>0.000294</td>\n",
       "      <td>0.799072</td>\n",
       "    </tr>\n",
       "    <tr>\n",
       "      <th>1328</th>\n",
       "      <td>0.801898</td>\n",
       "      <td>0.806928</td>\n",
       "      <td>0.807849</td>\n",
       "      <td>0.802905</td>\n",
       "      <td>0.000333</td>\n",
       "      <td>0.802905</td>\n",
       "    </tr>\n",
       "    <tr>\n",
       "      <th>1329</th>\n",
       "      <td>0.833367</td>\n",
       "      <td>0.831075</td>\n",
       "      <td>0.825844</td>\n",
       "      <td>0.834275</td>\n",
       "      <td>0.000127</td>\n",
       "      <td>0.834275</td>\n",
       "    </tr>\n",
       "    <tr>\n",
       "      <th>1330</th>\n",
       "      <td>0.826673</td>\n",
       "      <td>0.839328</td>\n",
       "      <td>0.834181</td>\n",
       "      <td>0.832762</td>\n",
       "      <td>0.000127</td>\n",
       "      <td>0.832762</td>\n",
       "    </tr>\n",
       "  </tbody>\n",
       "</table>\n",
       "<p>1331 rows × 6 columns</p>\n",
       "</div>"
      ],
      "text/plain": [
       "          High       Low      Open     Close    Volume  Adj Close\n",
       "0     0.019880  0.011920  0.008438  0.021989  0.000008   0.021989\n",
       "1     0.016583  0.015588  0.016978  0.014828  0.000032   0.014828\n",
       "2     0.012787  0.011105  0.012810  0.009381  0.000062   0.009381\n",
       "3     0.015784  0.015283  0.012607  0.017248  0.000007   0.017248\n",
       "4     0.036763  0.012226  0.016267  0.010490  0.000110   0.010490\n",
       "...        ...       ...       ...       ...       ...        ...\n",
       "1326  0.772927  0.778604  0.786499  0.775267  0.000079   0.775267\n",
       "1327  0.790809  0.789302  0.784465  0.799072  0.000294   0.799072\n",
       "1328  0.801898  0.806928  0.807849  0.802905  0.000333   0.802905\n",
       "1329  0.833367  0.831075  0.825844  0.834275  0.000127   0.834275\n",
       "1330  0.826673  0.839328  0.834181  0.832762  0.000127   0.832762\n",
       "\n",
       "[1331 rows x 6 columns]"
      ]
     },
     "execution_count": 20,
     "metadata": {},
     "output_type": "execute_result"
    }
   ],
   "source": [
    "pct_c_gold"
   ]
  },
  {
   "cell_type": "markdown",
   "metadata": {},
   "source": [
    "# Multi-Variate Forecasting"
   ]
  },
  {
   "cell_type": "markdown",
   "metadata": {},
   "source": [
    "# Using our Training and Testing sets, Let's create our inputs."
   ]
  },
  {
   "cell_type": "code",
   "execution_count": 21,
   "metadata": {},
   "outputs": [
    {
     "name": "stdout",
     "output_type": "stream",
     "text": [
      "Training Data: Length is  10 :  [array([[1.98801443e-02, 1.19204801e-02, 8.43831534e-03, 2.19891550e-02,\n",
      "        7.94860554e-06],\n",
      "       [1.65833922e-02, 1.55884349e-02, 1.69783973e-02, 1.48275902e-02,\n",
      "        3.24058534e-05],\n",
      "       [1.27872616e-02, 1.11054757e-02, 1.28100609e-02, 9.38072282e-03,\n",
      "        6.17545507e-05],\n",
      "       [1.57842646e-02, 1.52827305e-02, 1.26067758e-02, 1.72483106e-02,\n",
      "        7.33717434e-06],\n",
      "       [3.67632855e-02, 1.22261844e-02, 1.62667755e-02, 1.04902402e-02,\n",
      "        1.10363331e-04],\n",
      "       [1.76822689e-02, 1.93581253e-02, 1.74867340e-02, 1.75509623e-02,\n",
      "        7.70403306e-05],\n",
      "       [8.19175941e-03, 1.22256869e-03, 6.81166260e-03, 0.00000000e+00,\n",
      "        2.17058074e-05],\n",
      "       [0.00000000e+00, 0.00000000e+00, 0.00000000e+00, 2.01808793e-04,\n",
      "        3.05715598e-06],\n",
      "       [2.04795205e-02, 4.78853915e-03, 1.52501020e-03, 1.51301187e-02,\n",
      "        4.37173305e-05],\n",
      "       [1.94805195e-02, 1.71167079e-02, 1.39283769e-02, 1.84587940e-02,\n",
      "        2.50686790e-05]])]\n",
      "Testing Data: Length is  1 :  [array([0.0320759])]\n"
     ]
    }
   ],
   "source": [
    "# Need the data to be in the form [sample, time steps, features (dimension of each element)]\n",
    "samples = 10 # Number of samples (in past)\n",
    "steps = 1 # Number of steps (in future)\n",
    "X = [] # X array\n",
    "Y = [] # Y array\n",
    "for i in range(pct_c_gold.shape[0] - samples):\n",
    "    X.append(pct_c_gold.iloc[i:i+samples, 0:5].values) # Independent Samples\n",
    "    Y.append(pct_c_gold.iloc[i+samples, 5:].values) # Dependent Samples\n",
    "print('Training Data: Length is ',len(X[0:1][0]),': ', X[0:1])\n",
    "print('Testing Data: Length is ', len(Y[0:1]),': ', Y[0:1])"
   ]
  },
  {
   "cell_type": "code",
   "execution_count": 22,
   "metadata": {},
   "outputs": [
    {
     "name": "stdout",
     "output_type": "stream",
     "text": [
      "Dimensions of X (1321, 10, 5) Dimensions of Y (1321, 1)\n"
     ]
    }
   ],
   "source": [
    "#Reshape the data so that the inputs will be acceptable to the model.\n",
    "X = np.array(X)\n",
    "Y = np.array(Y)\n",
    "print('Dimensions of X', X.shape, 'Dimensions of Y', Y.shape)"
   ]
  },
  {
   "cell_type": "code",
   "execution_count": 23,
   "metadata": {},
   "outputs": [
    {
     "name": "stdout",
     "output_type": "stream",
     "text": [
      "Training Length (1189, 10, 5) (1189, 1) Testing Length: (132, 10, 5) (132, 1)\n"
     ]
    }
   ],
   "source": [
    "# # Get the training and testing set\n",
    "threshold = round(0.9 * X.shape[0])\n",
    "trainX, trainY = X[:threshold], Y[:threshold]\n",
    "testX, testY =  X[threshold:], Y[threshold:]\n",
    "print('Training Length',trainX.shape, trainY.shape,'Testing Length:',testX.shape, testY.shape)"
   ]
  },
  {
   "cell_type": "code",
   "execution_count": 24,
   "metadata": {},
   "outputs": [
    {
     "name": "stdout",
     "output_type": "stream",
     "text": [
      "Model: \"sequential_1\"\n",
      "_________________________________________________________________\n",
      "Layer (type)                 Output Shape              Param #   \n",
      "=================================================================\n",
      "simple_rnn_1 (SimpleRNN)     (None, 30)                1080      \n",
      "_________________________________________________________________\n",
      "dropout_1 (Dropout)          (None, 30)                0         \n",
      "_________________________________________________________________\n",
      "dense_1 (Dense)              (None, 1)                 31        \n",
      "=================================================================\n",
      "Total params: 1,111\n",
      "Trainable params: 1,111\n",
      "Non-trainable params: 0\n",
      "_________________________________________________________________\n"
     ]
    }
   ],
   "source": [
    "# Let's build the RNN\n",
    "model = keras.Sequential()\n",
    "\n",
    "# Add a RNN layer with 30 internal units.\n",
    "model.add(layers.SimpleRNN(30,\n",
    "                           activation = 'tanh',\n",
    "                           use_bias=True,\n",
    "                           input_shape=(trainX.shape[1], trainX.shape[2])))\n",
    "# Add a dropout layer (penalizing more complex models) -- prevents overfitting\n",
    "model.add(layers.Dropout(rate=0.2))\n",
    "\n",
    "\n",
    "# Add a Dense layer with 1 units (Since we are doing a regression task.\n",
    "model.add(layers.Dense(1))\n",
    "\n",
    "# Evaluating loss function of MSE using the adam optimizer.\n",
    "model.compile(loss='mean_squared_error', optimizer = 'adam')\n",
    "\n",
    "# Print out architecture.\n",
    "model.summary()"
   ]
  },
  {
   "cell_type": "code",
   "execution_count": 25,
   "metadata": {},
   "outputs": [
    {
     "name": "stdout",
     "output_type": "stream",
     "text": [
      "Epoch 1/100\n",
      "30/30 [==============================] - 1s 8ms/step - loss: 0.0076 - val_loss: 0.0022\n",
      "Epoch 2/100\n",
      "30/30 [==============================] - 0s 7ms/step - loss: 0.0027 - val_loss: 0.0014\n",
      "Epoch 3/100\n",
      "30/30 [==============================] - 0s 3ms/step - loss: 0.0015 - val_loss: 0.0020\n",
      "Epoch 4/100\n",
      "30/30 [==============================] - 0s 2ms/step - loss: 0.0012 - val_loss: 0.0013\n",
      "Epoch 5/100\n",
      "30/30 [==============================] - 0s 3ms/step - loss: 0.0013 - val_loss: 0.0011\n",
      "Epoch 6/100\n",
      "30/30 [==============================] - 0s 3ms/step - loss: 0.0018 - val_loss: 0.0026\n",
      "Epoch 7/100\n",
      "30/30 [==============================] - 0s 3ms/step - loss: 0.0028 - val_loss: 0.0014\n",
      "Epoch 8/100\n",
      "30/30 [==============================] - 0s 3ms/step - loss: 0.0015 - val_loss: 8.8090e-04\n",
      "Epoch 9/100\n",
      "30/30 [==============================] - 0s 3ms/step - loss: 0.0012 - val_loss: 0.0011\n",
      "Epoch 10/100\n",
      "30/30 [==============================] - 0s 3ms/step - loss: 8.1309e-04 - val_loss: 0.0010\n",
      "Epoch 11/100\n",
      "30/30 [==============================] - 0s 3ms/step - loss: 8.4978e-04 - val_loss: 7.7258e-04\n",
      "Epoch 12/100\n",
      "30/30 [==============================] - 0s 2ms/step - loss: 9.8003e-04 - val_loss: 8.1874e-04\n",
      "Epoch 13/100\n",
      "30/30 [==============================] - 0s 3ms/step - loss: 8.1290e-04 - val_loss: 8.2868e-04\n",
      "Epoch 14/100\n",
      "30/30 [==============================] - 0s 3ms/step - loss: 7.7339e-04 - val_loss: 7.9941e-04\n",
      "Epoch 15/100\n",
      "30/30 [==============================] - 0s 3ms/step - loss: 0.0013 - val_loss: 7.4677e-04\n",
      "Epoch 16/100\n",
      "30/30 [==============================] - 0s 3ms/step - loss: 9.3173e-04 - val_loss: 8.5539e-04\n",
      "Epoch 17/100\n",
      "30/30 [==============================] - 0s 3ms/step - loss: 6.5856e-04 - val_loss: 7.4821e-04\n",
      "Epoch 18/100\n",
      "30/30 [==============================] - 0s 3ms/step - loss: 5.8065e-04 - val_loss: 7.6302e-04\n",
      "Epoch 19/100\n",
      "30/30 [==============================] - 0s 2ms/step - loss: 6.4159e-04 - val_loss: 8.5723e-04\n",
      "Epoch 20/100\n",
      "30/30 [==============================] - 0s 3ms/step - loss: 6.0583e-04 - val_loss: 8.2422e-04\n",
      "Epoch 21/100\n",
      "30/30 [==============================] - 0s 3ms/step - loss: 5.7554e-04 - val_loss: 8.7591e-04\n",
      "Epoch 22/100\n",
      "30/30 [==============================] - 0s 3ms/step - loss: 5.9085e-04 - val_loss: 8.8636e-04\n",
      "Epoch 23/100\n",
      "30/30 [==============================] - 0s 3ms/step - loss: 6.6192e-04 - val_loss: 7.5359e-04\n",
      "Epoch 24/100\n",
      "30/30 [==============================] - 0s 3ms/step - loss: 5.5738e-04 - val_loss: 6.9336e-04\n",
      "Epoch 25/100\n",
      "30/30 [==============================] - 0s 3ms/step - loss: 6.9712e-04 - val_loss: 7.4238e-04\n",
      "Epoch 26/100\n",
      "30/30 [==============================] - 0s 3ms/step - loss: 6.9414e-04 - val_loss: 7.2558e-04\n",
      "Epoch 27/100\n",
      "30/30 [==============================] - 0s 3ms/step - loss: 5.5996e-04 - val_loss: 9.2283e-04\n",
      "Epoch 28/100\n",
      "30/30 [==============================] - 0s 3ms/step - loss: 5.1985e-04 - val_loss: 6.8132e-04\n",
      "Epoch 29/100\n",
      "30/30 [==============================] - 0s 3ms/step - loss: 4.6394e-04 - val_loss: 9.9211e-04\n",
      "Epoch 30/100\n",
      "30/30 [==============================] - 0s 3ms/step - loss: 5.3034e-04 - val_loss: 6.6336e-04\n",
      "Epoch 31/100\n",
      "30/30 [==============================] - 0s 3ms/step - loss: 8.1026e-04 - val_loss: 9.8318e-04\n",
      "Epoch 32/100\n",
      "30/30 [==============================] - 0s 2ms/step - loss: 4.8160e-04 - val_loss: 6.8872e-04\n",
      "Epoch 33/100\n",
      "30/30 [==============================] - 0s 3ms/step - loss: 4.3560e-04 - val_loss: 7.1701e-04\n",
      "Epoch 34/100\n",
      "30/30 [==============================] - 0s 3ms/step - loss: 4.4672e-04 - val_loss: 7.2158e-04\n",
      "Epoch 35/100\n",
      "30/30 [==============================] - 0s 3ms/step - loss: 4.5791e-04 - val_loss: 6.5652e-04\n",
      "Epoch 36/100\n",
      "30/30 [==============================] - 0s 3ms/step - loss: 4.6702e-04 - val_loss: 6.2609e-04\n",
      "Epoch 37/100\n",
      "30/30 [==============================] - 0s 3ms/step - loss: 4.5632e-04 - val_loss: 7.6925e-04\n",
      "Epoch 38/100\n",
      "30/30 [==============================] - 0s 3ms/step - loss: 4.4942e-04 - val_loss: 6.7092e-04\n",
      "Epoch 39/100\n",
      "30/30 [==============================] - 0s 3ms/step - loss: 5.6879e-04 - val_loss: 8.1124e-04\n",
      "Epoch 40/100\n",
      "30/30 [==============================] - 0s 3ms/step - loss: 4.5606e-04 - val_loss: 9.6587e-04\n",
      "Epoch 41/100\n",
      "30/30 [==============================] - 0s 3ms/step - loss: 3.6088e-04 - val_loss: 6.7852e-04\n",
      "Epoch 42/100\n",
      "30/30 [==============================] - 0s 3ms/step - loss: 3.6331e-04 - val_loss: 6.8455e-04\n",
      "Epoch 43/100\n",
      "30/30 [==============================] - 0s 3ms/step - loss: 3.7739e-04 - val_loss: 8.1330e-04\n",
      "Epoch 44/100\n",
      "30/30 [==============================] - 0s 3ms/step - loss: 4.4155e-04 - val_loss: 6.4186e-04\n",
      "Epoch 45/100\n",
      "30/30 [==============================] - 0s 3ms/step - loss: 5.0175e-04 - val_loss: 6.2844e-04\n",
      "Epoch 46/100\n",
      "30/30 [==============================] - 0s 3ms/step - loss: 5.5205e-04 - val_loss: 7.5156e-04\n",
      "Epoch 47/100\n",
      "30/30 [==============================] - 0s 3ms/step - loss: 4.7294e-04 - val_loss: 6.2395e-04\n",
      "Epoch 48/100\n",
      "30/30 [==============================] - 0s 3ms/step - loss: 4.1025e-04 - val_loss: 6.5902e-04\n",
      "Epoch 49/100\n",
      "30/30 [==============================] - 0s 3ms/step - loss: 3.5132e-04 - val_loss: 6.3269e-04\n",
      "Epoch 50/100\n",
      "30/30 [==============================] - 0s 3ms/step - loss: 4.0148e-04 - val_loss: 9.1294e-04\n",
      "Epoch 51/100\n",
      "30/30 [==============================] - 0s 3ms/step - loss: 3.5253e-04 - val_loss: 5.9224e-04\n",
      "Epoch 52/100\n",
      "30/30 [==============================] - 0s 3ms/step - loss: 3.7139e-04 - val_loss: 6.3403e-04\n",
      "Epoch 53/100\n",
      "30/30 [==============================] - 0s 3ms/step - loss: 3.4208e-04 - val_loss: 6.3755e-04\n",
      "Epoch 54/100\n",
      "30/30 [==============================] - 0s 3ms/step - loss: 4.9294e-04 - val_loss: 5.8015e-04\n",
      "Epoch 55/100\n",
      "30/30 [==============================] - 0s 3ms/step - loss: 3.7537e-04 - val_loss: 7.2188e-04\n",
      "Epoch 56/100\n",
      "30/30 [==============================] - 0s 3ms/step - loss: 2.9689e-04 - val_loss: 5.8555e-04\n",
      "Epoch 57/100\n",
      "30/30 [==============================] - 0s 3ms/step - loss: 3.3932e-04 - val_loss: 5.7298e-04\n",
      "Epoch 58/100\n",
      "30/30 [==============================] - 0s 3ms/step - loss: 3.2905e-04 - val_loss: 5.7939e-04\n",
      "Epoch 59/100\n",
      "30/30 [==============================] - 0s 3ms/step - loss: 3.2337e-04 - val_loss: 5.9281e-04\n",
      "Epoch 60/100\n",
      "30/30 [==============================] - 0s 3ms/step - loss: 3.1674e-04 - val_loss: 5.7327e-04\n",
      "Epoch 61/100\n",
      "30/30 [==============================] - 0s 3ms/step - loss: 3.2281e-04 - val_loss: 5.6547e-04\n",
      "Epoch 62/100\n",
      "30/30 [==============================] - 0s 3ms/step - loss: 3.3520e-04 - val_loss: 6.4429e-04\n",
      "Epoch 63/100\n",
      "30/30 [==============================] - 0s 2ms/step - loss: 3.0628e-04 - val_loss: 5.8569e-04\n",
      "Epoch 64/100\n",
      "30/30 [==============================] - 0s 3ms/step - loss: 3.7345e-04 - val_loss: 5.5866e-04\n",
      "Epoch 65/100\n",
      "30/30 [==============================] - 0s 3ms/step - loss: 3.4604e-04 - val_loss: 5.5299e-04\n",
      "Epoch 66/100\n",
      "30/30 [==============================] - 0s 3ms/step - loss: 3.2217e-04 - val_loss: 6.1425e-04\n",
      "Epoch 67/100\n",
      "30/30 [==============================] - 0s 3ms/step - loss: 3.3863e-04 - val_loss: 8.0151e-04\n",
      "Epoch 68/100\n",
      "30/30 [==============================] - 0s 3ms/step - loss: 2.8246e-04 - val_loss: 5.7464e-04\n",
      "Epoch 69/100\n",
      "30/30 [==============================] - 0s 3ms/step - loss: 2.8437e-04 - val_loss: 5.6072e-04\n",
      "Epoch 70/100\n",
      "30/30 [==============================] - 0s 3ms/step - loss: 3.0889e-04 - val_loss: 5.4308e-04\n",
      "Epoch 71/100\n",
      "30/30 [==============================] - 0s 3ms/step - loss: 3.2887e-04 - val_loss: 6.2430e-04\n",
      "Epoch 72/100\n",
      "30/30 [==============================] - 0s 3ms/step - loss: 2.9138e-04 - val_loss: 5.5688e-04\n",
      "Epoch 73/100\n",
      "30/30 [==============================] - 0s 3ms/step - loss: 3.0783e-04 - val_loss: 5.5448e-04\n",
      "Epoch 74/100\n",
      "30/30 [==============================] - 0s 3ms/step - loss: 2.9778e-04 - val_loss: 5.9564e-04\n",
      "Epoch 75/100\n",
      "30/30 [==============================] - 0s 3ms/step - loss: 2.9874e-04 - val_loss: 5.6114e-04\n",
      "Epoch 76/100\n",
      "30/30 [==============================] - 0s 3ms/step - loss: 3.5621e-04 - val_loss: 5.3732e-04\n",
      "Epoch 77/100\n",
      "30/30 [==============================] - 0s 3ms/step - loss: 3.3737e-04 - val_loss: 6.2853e-04\n",
      "Epoch 78/100\n",
      "30/30 [==============================] - 0s 2ms/step - loss: 2.9928e-04 - val_loss: 6.8754e-04\n",
      "Epoch 79/100\n",
      "30/30 [==============================] - 0s 2ms/step - loss: 2.5040e-04 - val_loss: 5.2704e-04\n",
      "Epoch 80/100\n",
      "30/30 [==============================] - 0s 3ms/step - loss: 2.9476e-04 - val_loss: 5.5796e-04\n",
      "Epoch 81/100\n",
      "30/30 [==============================] - 0s 2ms/step - loss: 4.1429e-04 - val_loss: 5.6220e-04\n",
      "Epoch 82/100\n",
      "30/30 [==============================] - 0s 3ms/step - loss: 2.8752e-04 - val_loss: 5.6571e-04\n",
      "Epoch 83/100\n",
      "30/30 [==============================] - 0s 3ms/step - loss: 2.6050e-04 - val_loss: 6.0977e-04\n",
      "Epoch 84/100\n",
      "30/30 [==============================] - 0s 3ms/step - loss: 2.9392e-04 - val_loss: 5.4609e-04\n",
      "Epoch 85/100\n",
      "30/30 [==============================] - 0s 3ms/step - loss: 3.6100e-04 - val_loss: 5.6253e-04\n",
      "Epoch 86/100\n",
      "30/30 [==============================] - 0s 3ms/step - loss: 2.9228e-04 - val_loss: 5.3832e-04\n",
      "Epoch 87/100\n",
      "30/30 [==============================] - 0s 3ms/step - loss: 2.6809e-04 - val_loss: 5.2907e-04\n",
      "Epoch 88/100\n",
      "30/30 [==============================] - 0s 3ms/step - loss: 2.8758e-04 - val_loss: 5.4425e-04\n",
      "Epoch 89/100\n",
      "30/30 [==============================] - 0s 3ms/step - loss: 2.6835e-04 - val_loss: 5.5163e-04\n",
      "Epoch 90/100\n",
      "30/30 [==============================] - 0s 2ms/step - loss: 2.6426e-04 - val_loss: 5.4129e-04\n",
      "Epoch 91/100\n",
      "30/30 [==============================] - 0s 3ms/step - loss: 2.2727e-04 - val_loss: 5.5859e-04\n",
      "Epoch 92/100\n",
      "30/30 [==============================] - 0s 3ms/step - loss: 2.8439e-04 - val_loss: 5.6996e-04\n",
      "Epoch 93/100\n",
      "30/30 [==============================] - 0s 3ms/step - loss: 2.4909e-04 - val_loss: 5.2526e-04\n",
      "Epoch 94/100\n",
      "30/30 [==============================] - 0s 3ms/step - loss: 2.5811e-04 - val_loss: 5.4201e-04\n",
      "Epoch 95/100\n",
      "30/30 [==============================] - 0s 3ms/step - loss: 3.6135e-04 - val_loss: 5.2958e-04\n",
      "Epoch 96/100\n",
      "30/30 [==============================] - 0s 3ms/step - loss: 3.3565e-04 - val_loss: 5.2835e-04\n",
      "Epoch 97/100\n",
      "30/30 [==============================] - 0s 3ms/step - loss: 2.2895e-04 - val_loss: 5.1289e-04\n",
      "Epoch 98/100\n",
      "30/30 [==============================] - 0s 3ms/step - loss: 2.3862e-04 - val_loss: 5.3385e-04\n",
      "Epoch 99/100\n",
      "30/30 [==============================] - 0s 2ms/step - loss: 2.3612e-04 - val_loss: 5.2212e-04\n",
      "Epoch 100/100\n",
      "30/30 [==============================] - 0s 3ms/step - loss: 2.6055e-04 - val_loss: 5.1268e-04\n"
     ]
    }
   ],
   "source": [
    "# Fitting the data\n",
    "history = model.fit(trainX,\n",
    "                    trainY,\n",
    "                    shuffle = False, # Since this is time series data\n",
    "                    epochs=100,\n",
    "                    batch_size=32,\n",
    "                    validation_split=0.2,\n",
    "                    verbose=1) # Verbose outputs data"
   ]
  },
  {
   "cell_type": "code",
   "execution_count": 26,
   "metadata": {},
   "outputs": [
    {
     "data": {
      "text/plain": [
       "<matplotlib.legend.Legend at 0x2262e4bd070>"
      ]
     },
     "execution_count": 26,
     "metadata": {},
     "output_type": "execute_result"
    },
    {
     "data": {
      "image/png": "[encoded data removed]",
      "text/plain": [
       "<Figure size 432x288 with 1 Axes>"
      ]
     },
     "metadata": {
      "needs_background": "light"
     },
     "output_type": "display_data"
    }
   ],
   "source": [
    "# Plotting the loss iteration\n",
    "plt.plot(history.history['loss'], label = 'training loss')\n",
    "plt.plot(history.history['val_loss'], label ='validation loss')\n",
    "plt.legend()\n",
    "# Note:\n",
    "# if training loss >> validation loss -> Underfitting\n",
    "# if training loss << validation loss -> Overfitting (i.e model is smart enough to have mapped the entire dataset..)\n",
    "# Several ways to address overfitting:\n",
    "# Reduce complexity of model (hidden layers, neurons, parameters input etc)\n",
    "# Add dropout and tune rate\n",
    "# More data :)"
   ]
  },
  {
   "cell_type": "code",
   "execution_count": 27,
   "metadata": {},
   "outputs": [
    {
     "data": {
      "text/plain": [
       "<matplotlib.legend.Legend at 0x2262cf2d4f0>"
      ]
     },
     "execution_count": 27,
     "metadata": {},
     "output_type": "execute_result"
    },
    {
     "data": {
      "image/png": "[encoded data removed]",
      "text/plain": [
       "<Figure size 432x288 with 1 Axes>"
      ]
     },
     "metadata": {
      "needs_background": "light"
     },
     "output_type": "display_data"
    }
   ],
   "source": [
    "# This is a one step forecast (based on how we constructed our model)\n",
    "y_pred = model.predict(testX)\n",
    "plt.plot(testY, label = 'True Value')\n",
    "plt.plot(y_pred, label = 'Forecasted Value')\n",
    "plt.legend()"
   ]
  },
  {
   "cell_type": "code",
   "execution_count": null,
   "metadata": {},
   "outputs": [],
   "source": [
    "# Predictions using the 'sliding/rolling window approach'\n",
    "# Multi step forecast.\n",
    "# Using self predictions for making future predictions\n",
    "# Very much different from a univariate -- You will need predictions (or known) values for your independent values.\n",
    "# Nonetheles, you will follow the same steps as shown for the univariate multi-step process."
   ]
  },
  {
   "cell_type": "code",
   "execution_count": null,
   "metadata": {},
   "outputs": [],
   "source": [
    "len(X[threshold:])"
   ]
  },
  {
   "cell_type": "code",
   "execution_count": null,
   "metadata": {},
   "outputs": [],
   "source": []
  }
 ],
 "metadata": {
  "kernelspec": {
   "display_name": "Python 3",
   "language": "python",
   "name": "python3"
  },
  "language_info": {
   "codemirror_mode": {
    "name": "ipython",
    "version": 3
   },
   "file_extension": ".py",
   "mimetype": "text/x-python",
   "name": "python",
   "nbconvert_exporter": "python",
   "pygments_lexer": "ipython3",
   "version": "3.8.5"
  }
 },
 "nbformat": 4,
 "nbformat_minor": 4
}
