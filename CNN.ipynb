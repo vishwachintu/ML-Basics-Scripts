{
  "nbformat": 4,
  "nbformat_minor": 0,
  "metadata": {
    "colab": {
      "provenance": []
    },
    "kernelspec": {
      "name": "python3",
      "display_name": "Python 3"
    },
    "language_info": {
      "name": "python"
    }
  },
  "cells": [
    {
      "cell_type": "markdown",
      "source": [
        "# **Intro to CNN**"
      ],
      "metadata": {
        "id": "dxZeOnfU2hbv"
      }
    },
    {
      "cell_type": "markdown",
      "source": [
        "Convolutional Neural Networks (CNNs) are a type of artificial intelligence specifically designed to process images and videos. They are very good at tasks like image recognition, object detection, and facial recognition.\n",
        "\n",
        "Here's a breakdown of what CNNs are and how they work:\n",
        "\n",
        "* **Inspired by the Brain:** CNNs are loosely inspired by the structure of the human visual cortex. They are able to learn features from images by applying filters that slide across the image. These filters are like tiny templates that can detect edges, lines, and other basic shapes in the image.\n",
        "\n",
        "* **Learning Features:** As the CNN processes an image, it can learn higher-level features from the combination of these basic shapes. For example, a CNN might learn to recognize a combination of edges and lines that forms an eye.\n",
        "\n",
        "* **Layers:** CNNs are made up of multiple layers, including convolutional layers, pooling layers, and fully-connected layers. Each layer performs a specific task that helps the network to extract more and more complex features from the image.\n",
        "\n",
        "* **Applications:** CNNs are widely used in many different applications,  including:\n",
        "    * Self-driving cars\n",
        "    * Medical imaging analysis\n",
        "    * Security and surveillance systems\n",
        "    * Recommender systems"
      ],
      "metadata": {
        "id": "UhK4f5FEdarR"
      }
    },
    {
      "cell_type": "markdown",
      "source": [
        "# **History**"
      ],
      "metadata": {
        "id": "ESlGDXHq2Oev"
      }
    },
    {
      "cell_type": "markdown",
      "source": [
        "The history of Convolutional Neural Networks (CNNs) can be traced back to the 1960s and 1980s, with some key milestones along the way:\n",
        "\n",
        "**Early Inspiration (1960s):**\n",
        "\n",
        "* **1962:** Hubel and Wiesel:  Their work on the visual cortex of cats laid the foundation for understanding how biological systems process visual information. This  inspired the development of CNNs.\n",
        "\n",
        "**Birth of Core Concepts (1980s):**\n",
        "\n",
        "* **1980:** Fukushima's Neocognitron: This is considered an early precursor to CNNs. It introduced the concepts of feature extraction, pooling layers, and using convolution in a neural network.\n",
        "\n",
        "**Practical Applications and Challenges (1990s-2000s):**\n",
        "\n",
        "* **1989-1998:** LeNet-5 by Yann LeCun et al.: This is credited with being the first true CNN architecture. It was developed for handwritten digit recognition and helped popularize the term \"convolutional neural network.\"\n",
        "* **1990s-2000s:** Limited Computing Power: Training complex CNNs was computationally expensive, hindering their widespread adoption.\n",
        "\n",
        "**Breakthroughs and Deep Learning Era (2000s-2010s):**\n",
        "\n",
        "* **2006:** First GPU Implementation: This significantly sped up CNN training, making them more practical.\n",
        "* **2012:** AlexNet by Krizhevsky et al.: This CNN achieved remarkable results on the ImageNet image recognition challenge, marking a turning point in deep learning and CNN development.\n",
        "\n",
        "**Continued Advancements and Expansion (2010s-Today):**\n",
        "\n",
        "* **2010s-Today:** Increased computing power, availability of large datasets, and research advancements have led to significant improvements in CNN accuracy and capabilities.\n",
        "* **Today:**  CNNs are used in a wide range of applications beyond image recognition, including:\n",
        "    * Object detection\n",
        "    * Medical image analysis\n",
        "    * Natural language processing (NLP)\n",
        "    * Video analysis\n",
        "    * Self-driving cars\n",
        "    * And many more\n",
        "\n",
        "**The Future:**\n",
        "\n",
        "Researchers continue to explore new CNN architectures, training methods, and applications. We can expect CNNs to play an even greater role in various fields in the years to come."
      ],
      "metadata": {
        "id": "ttYXf5wzuyjE"
      }
    },
    {
      "cell_type": "markdown",
      "source": [
        "# **Architecture of CNN**"
      ],
      "metadata": {
        "id": "DiJzf2L48dOh"
      }
    },
    {
      "cell_type": "markdown",
      "source": [
        "Convolutional neural networks are known for their superiority over other artificial neural networks, given their ability to process visual, textual, and audio data. **The CNN architecture comprises three main layers: convolutional layers, pooling layers, and a fully connected (FC) layer.**\n",
        "\n",
        "There can be multiple convolutional and pooling layers. The more layers in the network, the greater the complexity and (theoretically) the accuracy of the machine learning model. Each additional layer that processes the input data increases the model’s ability to recognize objects and patterns in the data.\n",
        "\n",
        "### **The Convolutional Layer**\n",
        "\n",
        "Convolutional layers are the key building block of the network, where most of the computations are carried out. It works by applying a filter to the input data to identify features. This filter, known as a feature detector, checks the image input’s receptive fields for a given feature. This operation is referred to as convolution.\n",
        "\n",
        "The filter is a two-dimensional array of weights that represents part of a 2-dimensional image. A filter is typically a 3×3 matrix, although there are other possible sizes such as MxM. The filter is applied to a region within the input image and calculates a dot product between the pixels, which is fed to an output array. The filter then shifts and repeats the process until it has covered the whole image. The final output of all the filter processes is called the feature map.\n",
        "\n",
        "The CNN typically applies the ReLU (Rectified Linear Unit) transformation to each feature map after every convolution to introduce nonlinearity to the ML model. A convolutional layer is typically followed by a pooling layer. Together, the convolutional and pooling layers make up a convolutional block.\n",
        "\n",
        "Additional convolution blocks will follow the first block, creating a hierarchical structure with later layers learning from the earlier layers. For example, a CNN model might train to detect cars in images. Cars can be viewed as the sum of their parts, including the wheels, boot, and windscreen. Each feature of a car equates to a low-level pattern identified by the neural network, which then combines these parts to create a high-level pattern.\n",
        "\n",
        "\n",
        "### **The Pooling Layers**\n",
        "\n",
        "A pooling or downsampling layer reduces the dimensionality of the input. Like a convolutional operation, pooling operations use a filter to sweep the whole input image, but it doesn’t use weights. The filter instead uses an aggregation function to populate the output array based on the receptive field’s values.\n",
        "\n",
        "There are two key types of pooling:\n",
        "\n",
        "*    **Average pooling:** The filter calculates the receptive field’s average value when it scans the input.\n",
        "*    **Max pooling:** The filter sends the pixel with the maximum value to populate the output array. This approach is more common than average pooling.\n",
        "\n",
        "Pooling layers are important despite causing some information to be lost, because they help reduce the complexity and increase the efficiency of the CNN. It also reduces the risk of overfitting.\n",
        "\n",
        "\n",
        "### **The Fully Connected Layer**\n",
        "\n",
        "The final layer of a CNN is a fully connected layer.\n",
        "\n",
        "The FC layer performs classification tasks using the features that the previous layers and filters extracted. Instead of ReLu functions, the FC layer typically uses a softmax function that classifies inputs more appropriately and produces a probability score between 0 and 1.\n",
        "\n",
        "\n",
        "\n",
        "![image.png](data:image/png;base64,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)"
      ],
      "metadata": {
        "id": "I8H0k9GZ8i-8"
      }
    },
    {
      "cell_type": "markdown",
      "source": [
        "# **Padding**"
      ],
      "metadata": {
        "id": "gdc3ploZdA0C"
      }
    },
    {
      "cell_type": "markdown",
      "source": [
        "In Convolutional Neural Networks (CNNs), padding refers to the technique of adding extra pixels around the border of an input image or feature map before applying a convolution operation. It serves several important purposes:\n",
        "\n",
        "**1. Preserving Spatial Dimensions:**\n",
        "\n",
        "* When you perform a convolution with a filter, the output can have a smaller spatial dimension (height and width) compared to the input. This shrinking happens because the filter only overlaps with a portion of the input at a time.\n",
        "* Padding adds extra pixels (often zeros) around the borders of the input. This allows the filter to \"see\" more of the image data during convolution, and helps maintain the output size closer to the input size.\n",
        "\n",
        "**2. Information Retention at Borders:**\n",
        "\n",
        "* Without padding, the filter would only fully interact with the central pixels of the image. This can lead to a loss of information from the edges of the image, as the filter never gets a chance to fully \"see\" those border regions.\n",
        "* Padding ensures that all regions of the image have a chance to contribute to the output feature map, mitigating the loss of valuable edge information.\n",
        "\n",
        "**Common Padding Types:**\n",
        "\n",
        "* **Zero Padding:** This is the most common type, where zeros are added as extra pixels around the borders.\n",
        "* **Reflection Padding:** Here, the values of pixels at the edge are mirrored to create the padding.\n",
        "* **Replication Padding:** Similar to reflection padding, but the values of the edge pixels themselves are copied to create the padding.\n",
        "\n",
        "**Choosing the Right Padding:**\n",
        "\n",
        "The choice of padding type can depend on the specific task and network architecture. Here are some general considerations:\n",
        "\n",
        "* **Zero padding** is a common default choice and works well in many cases.\n",
        "* **Reflection padding** can be useful when dealing with features that continue beyond the image borders (like edges).\n",
        "* **Replication padding** might be suitable for preserving exact boundary values when important.\n",
        "\n",
        "\n",
        "**Padding vs. Valid Convolution:**\n",
        "\n",
        "There's another approach to convolution besides padding, called \"valid convolution.\" In valid convolution, no padding is applied, and the output size is allowed to shrink due to the filter size. This can be useful for specific cases where you want to capture only the most prominent features within the filter's receptive field.\n",
        "\n",
        "Overall, padding is a crucial technique in CNNs that helps preserve spatial information, improve feature extraction, and ultimately contribute to better network performance."
      ],
      "metadata": {
        "id": "36jOB3BYQ6b9"
      }
    },
    {
      "cell_type": "markdown",
      "source": [
        "# **Filters**"
      ],
      "metadata": {
        "id": "Gxiaa2lyeFse"
      }
    },
    {
      "cell_type": "markdown",
      "source": [
        "In Convolutional Neural Networks (CNNs), filters, also sometimes called kernels, are the fundamental building blocks that play a vital role in feature extraction. These filters are essentially small matrices of weights that learn to detect specific patterns or features within the input data, which is typically an image.\n",
        "\n",
        "Here's a breakdown of how filters work:\n",
        "\n",
        "1. **Structure:** A filter is a small 2D or 3D matrix (depending on the dimensionality of the input data) containing learnable weights. For image data (2D), filters are usually square-shaped (e.g., 3x3, 5x5).\n",
        "\n",
        "2. **Convolution Operation:** During the convolution process, the filter slides across the input image, element-wise multiplying its weights with the corresponding pixels in a local region of the image. This local region is called the filter's receptive field.\n",
        "\n",
        "3. **Feature Detection:** The sum of these element-wise products is then calculated, producing a single value for the output feature map at that particular location. By moving the filter across the entire image and performing this operation at each location, the filter essentially detects and emphasizes specific features it's designed to learn.\n",
        "\n",
        "4. **Learning Process:** The weights within the filter are not predetermined. They are initialized with random values and then adjusted during the training process of the CNN. Through backpropagation and optimization algorithms, the network learns to adjust these weights to better detect the desired features in the training data.\n",
        "\n",
        "**Examples of Filter Functionality:**\n",
        "\n",
        "* A filter with positive weights in the center and negative weights on the sides might learn to detect edges in an image.\n",
        "* A filter with a bullseye pattern might learn to detect circular shapes.\n",
        "* As you progress through deeper layers in a CNN, filters can learn to detect increasingly complex combinations of these basic features.\n",
        "\n",
        "**Multiple Filters - Feature Maps:**\n",
        "\n",
        "A CNN typically uses multiple filters within a convolutional layer. Each filter learns a different feature, and the convolution operation is performed with each filter independently. This results in the creation of multiple output feature maps, each representing a specific type of feature extracted from the input image.\n",
        "\n",
        "**Importance of Filters:**\n",
        "\n",
        "Filters are the workhorses of CNNs. Their ability to learn and detect features is crucial for the network's success in tasks like image recognition, object detection, and other computer vision applications.\n",
        "\n",
        "By understanding filters, you gain a deeper understanding of how CNNs operate and how they learn to extract meaningful information from image data."
      ],
      "metadata": {
        "id": "zceU9eAgeKjb"
      }
    },
    {
      "cell_type": "markdown",
      "source": [
        "# **Activation function**"
      ],
      "metadata": {
        "id": "macSXhDvesO8"
      }
    },
    {
      "cell_type": "markdown",
      "source": [
        "In Convolutional Neural Networks (CNNs), activation functions are essential components that introduce non-linearity into the network. They play a critical role in determining how a neuron in the network processes information and influences the output.\n",
        "\n",
        "Here's a breakdown of why activation functions are important and what they do:\n",
        "\n",
        "**The Need for Non-Linearity:**\n",
        "\n",
        "* Without activation functions, a CNN would essentially be a stack of linear functions. This means the output of one layer would be a linear transformation of the previous layer's output, and so on.\n",
        "* Such a network would be limited in its ability to model complex relationships within the data, which is crucial for tasks like image recognition.\n",
        "\n",
        "**What Activation Functions Do:**\n",
        "\n",
        "* Activation functions take the weighted sum of inputs from the previous layer (along with any bias) and apply a non-linear transformation to this value.\n",
        "* This transformation introduces a \"decision threshold\" for the neuron. If the transformed value exceeds a certain threshold, the neuron is \"activated\" and outputs a specific value. Otherwise, it remains inactive and outputs zero or a minimal value.\n",
        "\n",
        "**Common Activation Functions in CNNs:**\n",
        "\n",
        "* **Rectified Linear Unit (ReLU):** A popular choice due to its computational efficiency and effectiveness. ReLU outputs the input directly if it's positive, and zero otherwise (f(x) = max(0, x)).\n",
        "* **Sigmoid:** Outputs a value between 0 and 1, often used for tasks requiring a probabilistic interpretation of the output (f(x) = 1 / (1 + exp(-x))).\n",
        "* **TanH (Hyperbolic tangent):** Outputs a value between -1 and 1, similar to sigmoid but with a steeper slope around zero (f(x) = (exp(x) - exp(-x)) / (exp(x) + exp(-x))).\n",
        "\n",
        "**Choosing the Right Activation Function:**\n",
        "\n",
        "The selection of an activation function can depend on the specific task and network architecture. Here are some general considerations:\n",
        "\n",
        "* **ReLU:** Often a good default choice due to its efficiency and ability to prevent vanishing gradients (a training issue in deep networks).\n",
        "* **Sigmoid and TanH:** While less common in deeper layers, they can be useful in output layers where a probabilistic interpretation is desired.\n",
        "\n",
        "**Beyond the Basics:**\n",
        "\n",
        "* There are many other activation functions besides ReLU, Sigmoid, and TanH, each with its own properties and potential benefits.\n",
        "* Research in activation functions is ongoing, with new options and variations being explored.\n",
        "\n",
        "**Overall, activation functions are a fundamental component of CNNs. They enable the network to learn complex, non-linear relationships within the data, which is essential for success in various image recognition and computer vision tasks.**"
      ],
      "metadata": {
        "id": "bNQoVoHXezaE"
      }
    },
    {
      "cell_type": "markdown",
      "source": [
        "# **Dropout**"
      ],
      "metadata": {
        "id": "r7QjiItge5Tb"
      }
    },
    {
      "cell_type": "markdown",
      "source": [
        "Dropout is a regularization technique used in Convolutional Neural Networks (CNNs) and other neural networks to prevent overfitting. Overfitting occurs when a model performs very well on the training data but struggles to generalize to unseen data.\n",
        "\n",
        "Here's how dropout works:\n",
        "\n",
        "1. **Random Deactivation:** During training, dropout randomly deactivates a certain percentage of neurons in a layer (usually hidden layers). These deactivated neurons are temporarily ignored, and their connections to other neurons are disabled.\n",
        "\n",
        "2. **Forced Redundancy:** By randomly dropping neurons, the network is forced to learn redundant representations of the data. This is because other neurons in the layer must compensate for the missing information from the dropped neurons.\n",
        "\n",
        "3. **Reduced Overfitting:** This randomness prevents the network from becoming overly reliant on any specific neuron or set of neurons. This helps the network to learn more generalizable features from the data and reduces the risk of overfitting to the training set.\n",
        "\n",
        "**Benefits of Dropout:**\n",
        "\n",
        "* **Improved Generalizability:** By reducing overfitting, dropout helps the model perform better on unseen data.\n",
        "* **Feature Learning:** Dropout encourages the network to learn more robust features that are not specific to the training data.\n",
        "* **Reduced Training Time:** Dropout can sometimes help reduce training time by preventing the network from getting stuck in local minima during the optimization process.\n",
        "\n",
        "**Implementation Details:**\n",
        "\n",
        "* The dropout rate is a hyperparameter that determines the percentage of neurons to be dropped. Typical dropout rates range from 20% to 50%.\n",
        "* Dropout is usually applied only during training. At test time, all neurons are active (no dropout).\n",
        "\n",
        "**Alternatives to Dropout:**\n",
        "\n",
        "* **L1 and L2 Regularization:** These techniques penalize the model for having large weights, which can also help prevent overfitting.\n",
        "* **Data Augmentation:** Artificially increasing the size and diversity of the training data can also reduce overfitting.\n",
        "\n",
        "**Overall, dropout is a simple yet effective technique that can significantly improve the performance of CNNs by preventing overfitting. It is a widely used approach in training deep neural networks for various tasks.**"
      ],
      "metadata": {
        "id": "lldQ4GaufGO2"
      }
    },
    {
      "cell_type": "markdown",
      "source": [
        "# **Optimizer**"
      ],
      "metadata": {
        "id": "dC_f1cp6fHZV"
      }
    },
    {
      "cell_type": "markdown",
      "source": [
        "In Convolutional Neural Networks (CNNs), optimizers play a crucial role in the training process. They are algorithms that iteratively update the weights and biases within the network to minimize a loss function and improve the network's performance.\n",
        "\n",
        "Here's a breakdown of what optimizers do and some common choices for CNNs:\n",
        "\n",
        "**The Role of Optimizers:**\n",
        "\n",
        "1. **Loss Function:** During training, the CNN calculates a loss value based on how well its predictions match the actual labels (ground truth) for the training data. This loss function quantifies the model's errors.\n",
        "2. **Gradient Descent:** Optimizers utilize a technique called gradient descent to adjust the network's weights and biases. They calculate the gradients of the loss function with respect to these weights and biases. The gradients indicate the direction in which the weights should be changed to minimize the loss.\n",
        "3. **Weight Updates:** Based on the calculated gradients and a learning rate (another hyperparameter), the optimizer updates the weights and biases in a direction that reduces the loss.\n",
        "4. **Iterative Process:** This process of calculating loss, gradients, and updating weights is repeated iteratively over the entire training dataset. Through these updates, the optimizer guides the network towards learning better representations of the data and improving its performance.\n",
        "\n",
        "**Common Optimizers for CNNs:**\n",
        "\n",
        "* **Stochastic Gradient Descent (SGD):** A fundamental optimizer that updates weights based on the gradients of a single data point at a time. Can be slow to converge but offers more control over learning rate.\n",
        "\n",
        "* **Momentum SGD:** An extension of SGD that incorporates momentum to accelerate the learning process. It considers the gradients from previous iterations when updating weights, helping to overcome local minima in the loss function.\n",
        "\n",
        "* **Adam (Adaptive Moment Estimation):** A popular optimizer that combines the benefits of SGD and momentum with additional adaptive learning rate adjustments for each parameter. This can lead to faster convergence and better performance compared to SGD or momentum SGD.\n",
        "\n",
        "* **RMSprop (Root Mean Square Prop):** Another optimizer that addresses the shortcomings of SGD by adapting the learning rate for each parameter based on its historical squared gradients. This can help prevent large oscillations in the learning process.\n",
        "\n",
        "**Choosing the Right Optimizer:**\n",
        "\n",
        "The selection of an optimizer can depend on the specific problem, dataset size, and network architecture.  Here are some general considerations:\n",
        "\n",
        "* **SGD:** Can be a good starting point for experimentation, but may require careful tuning of the learning rate.\n",
        "* **Momentum SGD:** Often a good choice for overcoming local minima and can be more stable than SGD.\n",
        "* **Adam:** A popular general-purpose optimizer that often works well with various CNN architectures.\n",
        "* **RMSprop:** Can be suitable for problems with noisy gradients.\n",
        "\n",
        "**Beyond these, there are many other optimizers available, and research in this area is ongoing.** Optimizers are a vital component of the training process, and understanding their role can help you achieve better performance with your CNNs."
      ],
      "metadata": {
        "id": "zp5RrzJ9fYI_"
      }
    },
    {
      "cell_type": "markdown",
      "source": [
        "# **Python script using Keras to understand the core principles of Convolutional Neural Networks:**"
      ],
      "metadata": {
        "id": "zlg05EgdfZM3"
      }
    },
    {
      "cell_type": "code",
      "source": [
        "from tensorflow.keras.models import Sequential\n",
        "from tensorflow.keras.layers import Conv2D, MaxPooling2D, Flatten, Dense\n",
        "\n",
        "# Define a simple CNN model\n",
        "model = Sequential()\n",
        "\n",
        "# Convolutional layer with 32 filters of size 3x3, applied to input image with 1 channel (grayscale)\n",
        "model.add(Conv2D(32, (3, 3), activation='relu', input_shape=(28, 28, 1)))\n",
        "\n",
        "# Max pooling layer to reduce dimensionality\n",
        "model.add(MaxPooling2D(pool_size=(2, 2)))\n",
        "\n",
        "# Flatten the output from the pooling layer\n",
        "model.add(Flatten())\n",
        "\n",
        "# Fully connected layer with 128 neurons\n",
        "model.add(Dense(128, activation='relu'))\n",
        "\n",
        "# Output layer with 10 neurons for 10 possible classes (e.g., MNIST digits)\n",
        "model.add(Dense(10, activation='softmax'))\n",
        "\n",
        "# Compile the model (specifying optimizer and loss function)\n",
        "model.compile(optimizer='adam', loss='sparse_categorical_crossentropy', metrics=['accuracy'])\n",
        "\n",
        "# This part (loading data, training, and evaluating) is omitted for simplicity\n",
        "\n",
        "print(model.summary())\n"
      ],
      "metadata": {
        "colab": {
          "base_uri": "https://localhost:8080/"
        },
        "id": "w4qKoX4ode2K",
        "outputId": "5ca7f391-8df7-42b6-a101-9859670b9b9a"
      },
      "execution_count": 2,
      "outputs": [
        {
          "output_type": "stream",
          "name": "stdout",
          "text": [
            "Model: \"sequential\"\n",
            "_________________________________________________________________\n",
            " Layer (type)                Output Shape              Param #   \n",
            "=================================================================\n",
            " conv2d (Conv2D)             (None, 26, 26, 32)        320       \n",
            "                                                                 \n",
            " max_pooling2d (MaxPooling2  (None, 13, 13, 32)        0         \n",
            " D)                                                              \n",
            "                                                                 \n",
            " flatten (Flatten)           (None, 5408)              0         \n",
            "                                                                 \n",
            " dense (Dense)               (None, 128)               692352    \n",
            "                                                                 \n",
            " dense_1 (Dense)             (None, 10)                1290      \n",
            "                                                                 \n",
            "=================================================================\n",
            "Total params: 693962 (2.65 MB)\n",
            "Trainable params: 693962 (2.65 MB)\n",
            "Non-trainable params: 0 (0.00 Byte)\n",
            "_________________________________________________________________\n",
            "None\n"
          ]
        }
      ]
    },
    {
      "cell_type": "markdown",
      "source": [
        "Explanation:\n",
        "\n",
        "Imports: We import necessary libraries from tensorflow.keras.\n",
        "\n",
        "Model Definition: We define a sequential model using Sequential.\n",
        "\n",
        "Convolutional Layer: The first layer is Conv2D with:\n",
        "32 filters: These are like feature detectors that learn patterns in the image.\n",
        "\n",
        "Kernel size (3, 3): This defines the size of the filter window that slides across the image.\n",
        "\n",
        "Activation function (relu): This introduces non-linearity to the network.\n",
        "Input shape: (28, 28, 1) This specifies the expected input image size (assuming grayscale images).\n",
        "\n",
        "Pooling Layer: MaxPooling2D reduces the image size while keeping the most important features.\n",
        "\n",
        "Flatten: This transforms the 2D output from pooling into a 1D vector for the fully-connected layers.\n",
        "\n",
        "Fully Connected Layers: These layers perform traditional neural network computations. We have one layer with 128 neurons and a final output layer with 10 neurons (depending on the classification task).\n",
        "\n",
        "Compile: We configure the model with an optimizer (adam) and a loss function (sparse_categorical_crossentropy) suitable for multi-class classification.\n",
        "\n",
        "Model Summary: Finally, we print a summary of the model architecture.\n",
        "\n",
        "*Note: This script demonstrates the building blocks of a CNN. To train and use this model for real-world tasks, you'll need additional code for data loading, training, and evaluation.*"
      ],
      "metadata": {
        "id": "gUfzBeIMggY_"
      }
    },
    {
      "cell_type": "markdown",
      "source": [
        "# **Hyperparameter**"
      ],
      "metadata": {
        "id": "0efvyPrO5j47"
      }
    },
    {
      "cell_type": "markdown",
      "source": [
        "\n",
        "\n",
        "| Hyperparameter        | Description                                                                                       |\n",
        "|-----------------------|---------------------------------------------------------------------------------------------------|\n",
        "| Number of Layers      | Decide on the architecture of your CNN, including the number of convolutional layers, pooling layers, and fully connected layers.                                                                                               |\n",
        "| Kernel Size           | Choose appropriate filter/kernel sizes for your convolutional layers based on the complexity of the features you want to capture.                                      |\n",
        "| Stride                | Determine the stride value for the convolution operation, which specifies the step size of the filter/kernel movement across the input image.                       |\n",
        "| Padding               | Choose between 'same' or 'valid' padding to preserve or alter the spatial dimensions of the input volume.                                                     |\n",
        "| Activation Function   | Select an activation function, such as ReLU, sigmoid, or tanh, to introduce non-linearity into the network.                                                      |\n",
        "| Pooling               | Decide on the type of pooling operation (e.g., max pooling, average pooling) and specify parameters such as pool size and stride.                                |\n",
        "| Learning Rate         | Determine an appropriate initial learning rate for the optimization algorithm used during training.                                                              |\n",
        "| Batch Size            | Choose a batch size that balances computational efficiency and model stability during training.                                                                 |\n",
        "| Number of Filters     | Determine the number of filters (or kernels) for each convolutional layer to extract different features from the input data.                                      |\n",
        "| Dropout               | Decide whether to include dropout layers and set the dropout rate to prevent overfitting.                                                                       |\n",
        "| Weight Initialization| Choose a weight initialization method (e.g., random initialization, Xavier/Glorot initialization) to set initial weights for the network.                       |\n",
        "| Optimizer             | Select an optimization algorithm (e.g., SGD, Adam, RMSprop) to update the weights of the network during training.                                                |\n"
      ],
      "metadata": {
        "id": "h2cPF1Zh5gDW"
      }
    },
    {
      "cell_type": "markdown",
      "source": [
        "#    **Lab 5**\n",
        "    Analyse the performance of CNN model on MNIST dataset (in image format).\n",
        "    a) Load the dataset.\n",
        "    b) Normalize the given range of pixel values and show the training images along with class labels.\n",
        "    c) Evaluate the model by using metrics – classification accuracy and Cross Entropy Loss.\n",
        "\n",
        "Applying a Convolutional Neural Network (CNN) on the MNIST dataset is a popular way to learn about and demonstrate the capabilities of CNNs for image classification tasks. The MNIST dataset consists of 28×28 grayscale images of hand-written digits (0-9), with a training set of 60,000 examples and a test set of 10,000 examples."
      ],
      "metadata": {
        "id": "pMKSCTPv1RF0"
      }
    },
    {
      "cell_type": "code",
      "source": [
        "import numpy as np\n",
        "import keras\n",
        "from keras.datasets import mnist\n",
        "from keras.models import Model\n",
        "from keras.layers import Dense, Input\n",
        "from keras.layers import Conv2D, MaxPooling2D, Dropout, Flatten\n",
        "from keras import backend as k"
      ],
      "metadata": {
        "id": "Lu2oWlUR0dJx"
      },
      "execution_count": 3,
      "outputs": []
    },
    {
      "cell_type": "code",
      "source": [
        "(x_train, y_train), (x_test, y_test) = mnist.load_data()"
      ],
      "metadata": {
        "colab": {
          "base_uri": "https://localhost:8080/"
        },
        "id": "yCgzS2W-0kSC",
        "outputId": "3e79cc47-ff2a-4822-99ea-f9104885cdd0"
      },
      "execution_count": 4,
      "outputs": [
        {
          "output_type": "stream",
          "name": "stdout",
          "text": [
            "Downloading data from https://storage.googleapis.com/tensorflow/tf-keras-datasets/mnist.npz\n",
            "11490434/11490434 [==============================] - 0s 0us/step\n"
          ]
        }
      ]
    },
    {
      "cell_type": "code",
      "source": [
        "img_rows, img_cols=28, 28\n",
        "\n",
        "if k.image_data_format() == 'channels_first':\n",
        "  x_train = x_train.reshape(x_train.shape[0], 1, img_rows, img_cols)\n",
        "  x_test = x_test.reshape(x_test.shape[0], 1, img_rows, img_cols)\n",
        "  inpx = (1, img_rows, img_cols)\n",
        "\n",
        "else:\n",
        "  x_train = x_train.reshape(x_train.shape[0], img_rows, img_cols, 1)\n",
        "  x_test = x_test.reshape(x_test.shape[0], img_rows, img_cols, 1)\n",
        "  inpx = (img_rows, img_cols, 1)\n",
        "\n",
        "x_train = x_train.astype('float32')\n",
        "x_test = x_test.astype('float32')\n",
        "x_train /= 255\n",
        "x_test /= 255"
      ],
      "metadata": {
        "id": "QbYJhMUR0oTF"
      },
      "execution_count": 6,
      "outputs": []
    },
    {
      "cell_type": "code",
      "source": [
        "y_train = keras.utils.to_categorical(y_train)\n",
        "y_test = keras.utils.to_categorical(y_test)"
      ],
      "metadata": {
        "id": "P6hQLndn0yJD"
      },
      "execution_count": 7,
      "outputs": []
    },
    {
      "cell_type": "code",
      "source": [
        "inpx = Input(shape=inpx)\n",
        "layer1 = Conv2D(32, kernel_size=(3, 3), activation='relu')(inpx)\n",
        "layer2 = Conv2D(64, (3, 3), activation='relu')(layer1)\n",
        "layer3 = MaxPooling2D(pool_size=(3, 3))(layer2)\n",
        "layer4 = Dropout(0.5)(layer3)\n",
        "layer5 = Flatten()(layer4)\n",
        "layer6 = Dense(250, activation='sigmoid')(layer5)\n",
        "layer7 = Dense(10, activation='softmax')(layer6)"
      ],
      "metadata": {
        "id": "6ks8tOvs01lF"
      },
      "execution_count": 8,
      "outputs": []
    },
    {
      "cell_type": "code",
      "source": [
        "model = Model([inpx], layer7)\n",
        "model.compile(optimizer=keras.optimizers.Adadelta(),\n",
        "\t\t\tloss=keras.losses.categorical_crossentropy,\n",
        "\t\t\tmetrics=['accuracy'])\n",
        "\n",
        "model.fit(x_train, y_train, epochs=12, batch_size=500)"
      ],
      "metadata": {
        "colab": {
          "base_uri": "https://localhost:8080/"
        },
        "id": "OPpV_DOu04nG",
        "outputId": "99d92636-aca9-4695-fb96-c8b73c326d52"
      },
      "execution_count": 9,
      "outputs": [
        {
          "output_type": "stream",
          "name": "stdout",
          "text": [
            "Epoch 1/12\n",
            "120/120 [==============================] - 137s 1s/step - loss: 2.4427 - accuracy: 0.0973\n",
            "Epoch 2/12\n",
            "120/120 [==============================] - 130s 1s/step - loss: 2.4255 - accuracy: 0.0978\n",
            "Epoch 3/12\n",
            "120/120 [==============================] - 126s 1s/step - loss: 2.4091 - accuracy: 0.0979\n",
            "Epoch 4/12\n",
            "120/120 [==============================] - 127s 1s/step - loss: 2.3934 - accuracy: 0.0979\n",
            "Epoch 5/12\n",
            "120/120 [==============================] - 125s 1s/step - loss: 2.3781 - accuracy: 0.0991\n",
            "Epoch 6/12\n",
            "120/120 [==============================] - 131s 1s/step - loss: 2.3638 - accuracy: 0.0988\n",
            "Epoch 7/12\n",
            "120/120 [==============================] - 125s 1s/step - loss: 2.3502 - accuracy: 0.0992\n",
            "Epoch 8/12\n",
            "120/120 [==============================] - 126s 1s/step - loss: 2.3368 - accuracy: 0.0998\n",
            "Epoch 9/12\n",
            "120/120 [==============================] - 126s 1s/step - loss: 2.3245 - accuracy: 0.0998\n",
            "Epoch 10/12\n",
            "120/120 [==============================] - 140s 1s/step - loss: 2.3128 - accuracy: 0.1001\n",
            "Epoch 11/12\n",
            "120/120 [==============================] - 126s 1s/step - loss: 2.3012 - accuracy: 0.1006\n",
            "Epoch 12/12\n",
            "120/120 [==============================] - 127s 1s/step - loss: 2.2899 - accuracy: 0.1021\n"
          ]
        },
        {
          "output_type": "execute_result",
          "data": {
            "text/plain": [
              "<keras.src.callbacks.History at 0x7a2404ab0a60>"
            ]
          },
          "metadata": {},
          "execution_count": 9
        }
      ]
    },
    {
      "cell_type": "code",
      "source": [
        "score = model.evaluate(x_test, y_test, verbose=0)\n",
        "print('loss=', score[0])\n",
        "print('accuracy=', score[1])"
      ],
      "metadata": {
        "colab": {
          "base_uri": "https://localhost:8080/"
        },
        "id": "U3IeKh1c1Hj6",
        "outputId": "63f8f53e-cf9b-488a-9c25-34d58cdbd24f"
      },
      "execution_count": 10,
      "outputs": [
        {
          "output_type": "stream",
          "name": "stdout",
          "text": [
            "loss= 2.281075954437256\n",
            "accuracy= 0.09749999642372131\n"
          ]
        }
      ]
    }
  ]
}