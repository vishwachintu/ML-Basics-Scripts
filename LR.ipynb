{
  "nbformat": 4,
  "nbformat_minor": 0,
  "metadata": {
    "colab": {
      "provenance": []
    },
    "kernelspec": {
      "name": "python3",
      "display_name": "Python 3"
    },
    "language_info": {
      "name": "python"
    }
  },
  "cells": [
    {
      "cell_type": "markdown",
      "source": [
        "# **Logistic regression** is a supervised machine learning algorithm mainly used for classification tasks where the goal is to predict the probability that an instance of belonging to a given class or not.\n",
        "\n",
        "\n",
        "*   It is a powerful tool for decision-making.\n",
        "*   It is a kind of statistical algorithm, which analyze the relationship between a set of independent variables and the dependent binary variables.\n",
        "* It’s referred to as regression because it takes the output of the linear regression function as input and uses a sigmoid function to estimate the probability for the given class.\n",
        "* For example email spam or not.\n",
        "\n",
        "\n",
        "*Note:* The difference between linear regression and logistic regression is that linear regression output is the continuous value that can be anything while logistic regression predicts the probability that an instance belongs to a given class or not."
      ],
      "metadata": {
        "id": "-jP8jx-C4EOA"
      }
    },
    {
      "cell_type": "markdown",
      "source": [
        "**Type of Logistic Regression:**\n",
        "\n",
        "On the basis of the categories, Logistic Regression can be classified into three types:\n",
        "\n",
        "*Binomial:* In binomial Logistic regression, there can be only two possible types of the dependent variables, such as 0 or 1, Pass or Fail, etc.\n",
        "\n",
        "*Multinomial:* In multinomial Logistic regression, there can be 3 or more possible unordered types of the dependent variable, such as “cat”, “dogs”, or “sheep”\n",
        "\n",
        "*Ordinal:* In ordinal Logistic regression, there can be 3 or more possible ordered types of dependent variables, such as “low”, “Medium”, or “High”."
      ],
      "metadata": {
        "id": "nAg2D6Ma396s"
      }
    },
    {
      "cell_type": "markdown",
      "source": [
        "**Logistic Function (Sigmoid Function):**\n",
        "\n",
        "\n",
        "*   The sigmoid function is a mathematical function used to map the predicted values to probabilities.\n",
        "*   It maps any real value into another value within a range of 0 and 1. o The value of the logistic regression must be between 0 and 1, which cannot go beyond this limit, so it forms a curve like the “S” form.\n",
        "* The S-form curve is called the Sigmoid function or the logistic function.\n",
        "In logistic regression, we use the concept of the threshold value, which defines the probability of either 0 or 1. Such as values above the threshold value tends to 1, and a value below the threshold values tends to 0.\n"
      ],
      "metadata": {
        "id": "LDfTUfj250FD"
      }
    },
    {
      "cell_type": "markdown",
      "source": [
        "**Use cases of logistic regression**\n",
        "\n",
        "Logistic regression is commonly used for prediction and classification problems. Some of these use cases include:\n",
        "\n",
        "*Fraud detection:* Logistic regression models can help teams identify data anomalies, which are predictive of fraud. Certain behaviors or characteristics may have a higher association with fraudulent activities, which is particularly helpful to banking and other financial institutions in protecting their clients. SaaS-based companies have also started to adopt these practices to eliminate fake user accounts from their datasets when conducting data analysis around business performance.\n",
        "\n",
        "*Disease prediction:* In medicine, this analytics approach can be used to predict the likelihood of disease or illness for a given population. Healthcare organizations can set up preventative care for individuals that show higher propensity for specific illnesses.\n",
        "\n",
        "*Churn prediction:* Specific behaviors may be indicative of churn in different functions of an organization. For example, human resources and management teams may want to know if there are high performers within the company who are at risk of leaving the organization; this type of insight can prompt conversations to understand problem areas within the company, such as culture or compensation. Alternatively, the sales organization may want to learn which of their clients are at risk of taking their business elsewhere. This can prompt teams to set up a retention strategy to avoid lost revenue."
      ],
      "metadata": {
        "id": "QoeVWbHB4KI7"
      }
    },
    {
      "cell_type": "code",
      "source": [
        "#import lib\n",
        "import numpy as np\n",
        "import pandas as pd\n",
        "from sklearn.model_selection import train_test_split\n",
        "from sklearn.preprocessing import StandardScaler\n",
        "from sklearn.linear_model import LogisticRegression\n",
        "from sklearn.metrics import confusion_matrix, classification_report\n",
        "\n",
        "#import data\n",
        "from sklearn.datasets import load_breast_cancer\n",
        "data = load_breast_cancer()\n",
        "x , y = data.data, data.target\n",
        "\n",
        "#split data\n",
        "X_train, X_test, y_train, y_test = train_test_split(x, y, test_size = 0.2, random_state= 42)\n",
        "\n",
        "#Standarize features\n",
        "scaler = StandardScaler()\n",
        "X_train = scaler.fit_transform(X_train)\n",
        "X_test = scaler.transform(X_test)\n",
        "\n",
        "#model\n",
        "model = LogisticRegression(random_state = 42)\n",
        "model.fit(X_train, y_train)\n",
        "\n",
        "#prediction\n",
        "y_pred =model.predict(X_test)\n",
        "\n",
        "#Evaluate\n",
        "conf_matrix = confusion_matrix(y_test, y_pred)\n",
        "class_report = classification_report(y_test, y_pred)\n",
        "\n",
        "#Display results\n",
        "print(\"Confusion Matrix:\\n\", conf_matrix)\n",
        "print(\"Clasification Report:\\n\", class_report)"
      ],
      "metadata": {
        "colab": {
          "base_uri": "https://localhost:8080/"
        },
        "id": "Ry1vIJ8oG6lh",
        "outputId": "082d2f28-3dd7-4722-8fc5-c6b82976656f"
      },
      "execution_count": 3,
      "outputs": [
        {
          "output_type": "stream",
          "name": "stdout",
          "text": [
            "Confusion Matrix:\n",
            " [[41  2]\n",
            " [ 1 70]]\n",
            "Clasification Report:\n",
            "               precision    recall  f1-score   support\n",
            "\n",
            "           0       0.98      0.95      0.96        43\n",
            "           1       0.97      0.99      0.98        71\n",
            "\n",
            "    accuracy                           0.97       114\n",
            "   macro avg       0.97      0.97      0.97       114\n",
            "weighted avg       0.97      0.97      0.97       114\n",
            "\n"
          ]
        }
      ]
    }
  ]
}